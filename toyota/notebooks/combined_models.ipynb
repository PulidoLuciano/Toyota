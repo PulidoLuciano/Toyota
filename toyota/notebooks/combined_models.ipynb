{
 "cells": [
  {
   "cell_type": "markdown",
   "metadata": {},
   "source": [
    "### Combinacion de resultados"
   ]
  },
  {
   "cell_type": "markdown",
   "metadata": {},
   "source": [
    "Hasta el momento hemos obtenido distintos modelos con diferentes métodos. La siguiente tabla muestra un resumen de lo que logramos obtener."
   ]
  },
  {
   "cell_type": "markdown",
   "metadata": {},
   "source": [
    "#### Manual Feature Selection"
   ]
  },
  {
   "cell_type": "markdown",
   "metadata": {},
   "source": [
    "manual: ['Mfg_Year', 'KM', 'HP', 'cc', 'Quarterly_Tax', 'Weight', 'Mfr_Guarantee', 'BOVAG_Guarantee', 'Guarantee_Period', 'Airco', 'Automatic_airco',\n",
    "'CD_Player', 'Powered_Windows', 'CNG', 'm_hatch_b', 'm_liftb', 'm_d4d', 'm_vvtli']"
   ]
  },
  {
   "cell_type": "markdown",
   "metadata": {},
   "source": [
    "#### Ridge"
   ]
  },
  {
   "cell_type": "markdown",
   "metadata": {},
   "source": [
    "ridge: ['Mfg_Year', 'Weight', 'KM', 'm_vvtli', 'Quarterly_Tax', 'Automatic_airco', 'CNG', 'Diesel', 'm_d4d', 'Guarantee_Period', 'm_matic3', 'm_gtsi', 'm_g6', 'm_liftb', 'm_bns', 'Powered_Windows', 'm_hatch_b', 'm_matic4', 'm_comfort', 'Mfr_Guarantee', 'HP']\n",
    "\n",
    "alpha: 1.00"
   ]
  },
  {
   "cell_type": "markdown",
   "metadata": {},
   "source": [
    "#### Lasso"
   ]
  },
  {
   "cell_type": "markdown",
   "metadata": {},
   "source": [
    "lasso: ['Mfg_Year', 'KM', 'HP', 'Met_Color', 'Automatic', 'cc', 'Gears', 'Quarterly_Tax', 'Weight', 'Mfr_Guarantee', 'BOVAG_Guarantee', 'Guarantee_Period', 'ABS', 'Airbag_1', 'Airbag_2', 'Airco', 'Automatic_airco', 'Boardcomputer', 'CD_Player', 'Powered_Windows', 'Power_Steering', 'Metallic_Rim', 'Tow_Bar', 'CNG', 'm_16v', 'm_terra', 'm_liftb', 'm_wagon', 'm_sol', 'm_sedan', 'm_comfort', 'm_g6', 'm_d4d', 'm_gtsi', 'Trunk', 'Five_Doors']\n",
    "\n",
    "outliers luego de cut_outliers: [\n",
    "    16, 49, 14, 15, 330, 1133, 1261, 17, 1432, \n",
    "    410, 320, 1378, 388, 1131, 94, 991, 609,\n",
    "    5, 102, 1072, 1268, 314, 1313, 163, 1353, \n",
    "    106, 19, 91, 64, 4, 114, 826, 668,\n",
    "]\n",
    "\n",
    "alpha: 3.66"
   ]
  }
 ],
 "metadata": {
  "language_info": {
   "name": "python"
  }
 },
 "nbformat": 4,
 "nbformat_minor": 2
}
