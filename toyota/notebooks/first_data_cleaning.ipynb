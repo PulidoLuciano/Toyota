{
 "cells": [
  {
   "cell_type": "markdown",
   "metadata": {},
   "source": [
    "## Primera limpieza de datos"
   ]
  },
  {
   "cell_type": "markdown",
   "metadata": {},
   "source": [
    "Vamos a analizar los datos generales del dataset con las columnas inferidas"
   ]
  },
  {
   "cell_type": "code",
   "execution_count": null,
   "metadata": {},
   "outputs": [],
   "source": [
    "import matplotlib.pyplot as plt\n",
    "import seaborn as sns\n",
    "import numpy as np\n",
    "import pandas as pd\n",
    "\n",
    "df = map_strings.copy()\n",
    "\n",
    "# Display basic information about the dataset\n",
    "print(\"Dataset Shape:\", df.shape)\n",
    "print(\"\\nDataset Info:\")\n",
    "df.info()\n",
    "print(\"\\nBasic Statistics:\")\n",
    "df.describe()\n",
    "print(\"Head of the dataset:\")\n",
    "df.head()"
   ]
  },
  {
   "cell_type": "markdown",
   "metadata": {},
   "source": [
    "No contamos con valores nulos en el dataset. Corresponden el numero de observaciones no nulas en todas las columnas con el numero total de observaciones en shape.\n",
    "Usando las variables inferidas contamos con 59 variables. De las cuales muchas son binarias."
   ]
  },
  {
   "cell_type": "markdown",
   "metadata": {},
   "source": [
    "Vamos a realizar histogramas para visualizar las distribuciones de los datos."
   ]
  },
  {
   "cell_type": "code",
   "execution_count": null,
   "metadata": {},
   "outputs": [],
   "source": [
    "df.hist(figsize=(15, 15))\n",
    "plt.show()"
   ]
  },
  {
   "cell_type": "markdown",
   "metadata": {},
   "source": [
    "Podemos ver las variables binarias facilmente. Hay dos variables que vamos a eliminar: por un lado Id, que es uniforme y por otro lado Cylinders que es una constante.\n",
    "\n",
    "Tambien podemos borrar Petrol, ya que usando Diesel y CNG ya podemos inferir que sera Petrol si ambos valores son cero."
   ]
  },
  {
   "cell_type": "code",
   "execution_count": null,
   "metadata": {},
   "outputs": [],
   "source": [
    "df.drop(columns=[\"Id\", \"Cylinders\", \"Petrol\"], inplace=True)"
   ]
  },
  {
   "cell_type": "markdown",
   "metadata": {},
   "source": [
    "Hay muchas features binarias con pocos valores en uno. Deberemos analizarlas bien.\n",
    "\n",
    "Vamos a hacer la matriz de correlacion para ver que variables estan mas correlacionadas."
   ]
  },
  {
   "cell_type": "code",
   "execution_count": null,
   "metadata": {},
   "outputs": [],
   "source": [
    "corr_matrix = df.corr()\n",
    "plt.figure(figsize=(12, 8))\n",
    "sns.heatmap(corr_matrix, cmap='coolwarm', vmin=-1, vmax=1)\n",
    "plt.title('Matriz de Correlación')\n",
    "plt.show()"
   ]
  },
  {
   "cell_type": "markdown",
   "metadata": {},
   "source": [
    "Y vamos a ver scatterplots entre las variables con una correlacion mayor a 0.5"
   ]
  },
  {
   "cell_type": "code",
   "execution_count": null,
   "metadata": {},
   "outputs": [],
   "source": [
    "def scatter_plots(df):\n",
    "    # Create scatterplots for highly correlated variables (|correlation| > 0.5)\n",
    "    high_corr_pairs = []\n",
    "    for i in range(df.shape[1]):\n",
    "        for j in range(i+1, df.shape[1]):\n",
    "            corr = corr_matrix.iloc[i,j]\n",
    "            if abs(corr) > 0.5:\n",
    "                high_corr_pairs.append((df.columns[i], df.columns[j], corr))\n",
    "\n",
    "    # Sort pairs by absolute correlation value\n",
    "    high_corr_pairs.sort(key=lambda x: abs(x[2]), reverse=True)\n",
    "\n",
    "    # Create scatterplots for highly correlated pairs\n",
    "    n_pairs = len(high_corr_pairs)\n",
    "    n_cols = 2\n",
    "    n_rows = (n_pairs + n_cols - 1) // n_cols\n",
    "\n",
    "    fig, axes = plt.subplots(n_rows, n_cols, figsize=(15, 5*n_rows))\n",
    "    axes = axes.flatten()\n",
    "\n",
    "    for idx, (col1, col2, corr) in enumerate(high_corr_pairs):\n",
    "        sns.scatterplot(data=df, x=col1, y=col2, ax=axes[idx])\n",
    "        axes[idx].set_title(f'{col1} vs {col2}\\nCorrelation: {corr:.2f}')\n",
    "        axes[idx].tick_params(axis='x', rotation=45)\n",
    "\n",
    "    # Hide empty subplots if any\n",
    "    for idx in range(len(high_corr_pairs), len(axes)):\n",
    "        axes[idx].set_visible(False)\n",
    "\n",
    "    plt.tight_layout()\n",
    "    plt.show()\n",
    "    \n",
    "scatter_plots(df)"
   ]
  },
  {
   "cell_type": "markdown",
   "metadata": {},
   "source": [
    "Podemos ver como la columna m_life_months inferida a partir de la fecha de fabricacion esta perfectamente correlacionada con Age_08_04 y tiene alta correlacion con Mfg_Years.\n",
    "\n",
    "Vamos a eliminar esta columna y a Mfg_Month que no parece tener demasiada relacion con el precio final."
   ]
  },
  {
   "cell_type": "code",
   "execution_count": null,
   "metadata": {},
   "outputs": [],
   "source": [
    "df.drop(columns=[\"m_life_months\", \"Mfg_Month\"], inplace=True)"
   ]
  },
  {
   "cell_type": "markdown",
   "metadata": {},
   "source": [
    "Radio y radio_cassette son variables que tambien cuentan con una correlacion del 0.99. No tiene sentido mantener a ambas y preferimos quedarnos con Radio por su correlacion con Precio."
   ]
  },
  {
   "cell_type": "code",
   "execution_count": null,
   "metadata": {},
   "outputs": [],
   "source": [
    "df.drop(columns=[\"Radio_cassette\"], inplace=True)"
   ]
  },
  {
   "cell_type": "markdown",
   "metadata": {},
   "source": [
    "Age_08_04 y Mfg_Year tambien cuentan con alta correlacion. Vamos a eliminar la primera, que tiene menos relacion con precio."
   ]
  },
  {
   "cell_type": "code",
   "execution_count": null,
   "metadata": {},
   "outputs": [],
   "source": [
    "df.drop(columns=[\"Age_08_04\"], inplace=True)"
   ]
  },
  {
   "cell_type": "markdown",
   "metadata": {},
   "source": [
    "Automatic y m_matic tienen una relacion alta porque representan lo mismo, eliminaremos la inferida.\n",
    "\n",
    "El caso de m_dsl y Diesel es similar, es lo mismo pero hay casos en donde DSL no se agrego al nombre del modelo. Eliminamos la inferida.\n",
    "\n",
    "Y para m_airco. Que solo indica que hay aire acondicionado."
   ]
  },
  {
   "cell_type": "code",
   "execution_count": null,
   "metadata": {},
   "outputs": [],
   "source": [
    "df.drop(columns=[\"m_matic\", \"m_dsl\", \"m_airco\"], inplace=True)"
   ]
  },
  {
   "cell_type": "markdown",
   "metadata": {},
   "source": [
    "m_vvti representa algo muy similar a valve (que une los vvti con los vvtil). Estos pueden llegar a tener influencia en el precio segun se ve. Vamos a eliminar valve para mantener la separacion de vvlit que parecen ser mas caros de lo normal."
   ]
  },
  {
   "cell_type": "code",
   "execution_count": null,
   "metadata": {},
   "outputs": [],
   "source": [
    "df.drop(columns=[\"valve\"], inplace=True)"
   ]
  },
  {
   "cell_type": "markdown",
   "metadata": {},
   "source": [
    "Vamos a ver los scatter plots de las variables vs el precio. Vamos a usar un alpha bajo para poder ver la superposicion de los puntos y las concentraciones de valores en las variables binarias."
   ]
  },
  {
   "cell_type": "code",
   "execution_count": null,
   "metadata": {},
   "outputs": [],
   "source": [
    "# Create scatterplots for each numeric variable vs. price\n",
    "def scatterplots_price():\n",
    "    n_cols = 3\n",
    "    n_rows = (len(df.columns) + n_cols - 1) // n_cols\n",
    "    fig, axes = plt.subplots(n_rows, n_cols, figsize=(15, 5*n_rows))\n",
    "    axes = axes.flatten()\n",
    "\n",
    "    for idx, col in enumerate(df.columns):\n",
    "        sns.scatterplot(data=df, x=col, y='Price', ax=axes[idx], alpha=0.2)\n",
    "        axes[idx].set_title(f'{col} vs Price')\n",
    "\n",
    "    # Hide empty subplots if any\n",
    "    for idx in range(len(df.columns), len(axes)):\n",
    "        axes[idx].set_visible(False)\n",
    "\n",
    "    plt.tight_layout()\n",
    "    plt.show()\n",
    "\n",
    "scatterplots_price()"
   ]
  },
  {
   "cell_type": "markdown",
   "metadata": {},
   "source": [
    "Hay varias cuestiones interesantes. Por un lado contamos con una observacion con 16000 en cc. Vamos a ver que pasa con ella, puede ser un error de tipeo. "
   ]
  },
  {
   "cell_type": "code",
   "execution_count": null,
   "metadata": {},
   "outputs": [],
   "source": [
    "row = df.loc[df[\"cc\"] == 16000]\n",
    "print(row)\n",
    "\n",
    "cc_milseis = df.loc[df[\"cc\"] == 1600]\n",
    "print(np.mean(cc_milseis[\"Price\"]))"
   ]
  },
  {
   "cell_type": "markdown",
   "metadata": {},
   "source": [
    "No parece haber nada extranio en la fila, deberia ser un error de tipeo pero su precio es muy superior a la media de precio de 1600cc. Preferimos eliminar esta observacion."
   ]
  },
  {
   "cell_type": "code",
   "execution_count": null,
   "metadata": {},
   "outputs": [],
   "source": [
    "df.drop(row.index, inplace=True)\n",
    "df.shape"
   ]
  },
  {
   "cell_type": "markdown",
   "metadata": {},
   "source": [
    "Otros interesantes son los precios por arriba de 30000"
   ]
  },
  {
   "cell_type": "code",
   "execution_count": null,
   "metadata": {},
   "outputs": [],
   "source": [
    "price_rows = df.loc[df[\"Price\"] > 25000]\n",
    "price_rows"
   ]
  },
  {
   "cell_type": "markdown",
   "metadata": {},
   "source": [
    "Como se puede ver corresponde a los modelos Verso. Estos estan muy alejados del precio de otros autos y son pocos. Por eso consideramos que son outliers que perjudican la regresion. Nuestro modelo no hara predicciones de precio para modelos Verso."
   ]
  },
  {
   "cell_type": "code",
   "execution_count": null,
   "metadata": {},
   "outputs": [],
   "source": [
    "df = df[df[\"m_mpv_verso\"] != 1]\n",
    "df.drop(columns=[\"m_mpv_verso\"], inplace=True)\n",
    "df.shape"
   ]
  },
  {
   "cell_type": "markdown",
   "metadata": {},
   "source": [
    "Vamos a eliminar otras variables inferidas que parecen no tener significado real o son demasiado atipicos."
   ]
  },
  {
   "cell_type": "code",
   "execution_count": null,
   "metadata": {},
   "outputs": [],
   "source": [
    "df.drop(columns=[\"m_keuze_occ_uit\", \"m_g3\", \"m_b_ed\", \"m_sw\", \"m_xl\", \"m_pk\", \"m_nav\", \"m_ll\", \"m_gl\", \"m_comm\"], inplace=True)"
   ]
  },
  {
   "cell_type": "markdown",
   "metadata": {},
   "source": [
    "Un patron que queremos ver son los terra, sedan y comfort. Los comfort y sedan son siempre modelos terra. Quizas deberiamos excluir a estos de la variable terra."
   ]
  },
  {
   "cell_type": "code",
   "execution_count": null,
   "metadata": {},
   "outputs": [],
   "source": [
    "terra_sedan_comfort = df.loc[df[\"m_terra\"] == 1]\n",
    "terra_sedan = terra_sedan_comfort.loc[terra_sedan_comfort[\"m_comfort\"] != 1]\n",
    "terra = terra_sedan.loc[terra_sedan[\"m_sedan\"] != 1]\n",
    "print(f'Precio medio terra: {np.mean(terra[\"Price\"])}')\n",
    "print(f'Precio medio terra_sedan: {np.mean(terra_sedan[\"Price\"])}')\n",
    "print(f'Precio medio terra_sedan_comfort: {np.mean(terra_sedan_comfort[\"Price\"])}')\n",
    "terra.shape"
   ]
  },
  {
   "cell_type": "markdown",
   "metadata": {},
   "source": [
    "La media cambia separando los valores, esto afecta a la variable terra. Vamos a hacer que si son sedan o comfort no sean terra."
   ]
  },
  {
   "cell_type": "code",
   "execution_count": null,
   "metadata": {},
   "outputs": [],
   "source": [
    "df.loc[(df[\"m_terra\"] == 1) & ((df[\"m_comfort\"] == 1) | (df[\"m_sedan\"] == 1)), \"m_terra\"] = 0\n",
    "terra = df.loc[df[\"m_terra\"] == 1]\n",
    "terra.shape"
   ]
  },
  {
   "cell_type": "code",
   "execution_count": null,
   "metadata": {},
   "outputs": [],
   "source": [
    "# Display basic information about the dataset\n",
    "print(\"Dataset Shape:\", df.shape)\n",
    "print(\"\\nDataset Info:\")\n",
    "df.info()\n",
    "print(\"\\nBasic Statistics:\")\n",
    "df.describe()\n",
    "print(\"Head of the dataset:\")\n",
    "df.head()"
   ]
  },
  {
   "cell_type": "markdown",
   "metadata": {},
   "source": [
    "Vamos a aplicar algunas transformaciones para mejorar los datos."
   ]
  },
  {
   "cell_type": "code",
   "execution_count": null,
   "metadata": {},
   "outputs": [],
   "source": [
    "# Normalizado\n",
    "from sklearn.preprocessing import MinMaxScaler\n",
    "scaler = MinMaxScaler()\n",
    "toyota_normalized = df.copy()\n",
    "columns = toyota_normalized.columns\n",
    "toyota_normalized[columns] = scaler.fit_transform(toyota_normalized[columns])\n",
    "toyota_normalized[\"Price\"] = df[\"Price\"]\n",
    "toyota_normalized = pd.DataFrame(toyota_normalized, columns=columns)"
   ]
  },
  {
   "cell_type": "markdown",
   "metadata": {},
   "source": [
    "En base a lo obtenido, observamos una Asimetría (skew) en las distribuciones, por lo que haremos los siguientes tratamientos:\n",
    "\n",
    "- *Outliers*: quitamos los outliers del dataset.\n",
    "- *Normalizado*: escalamos las variables con la funcion Min Max (0 a 1).\n",
    "- *Transformacion*: aplicamos esta transformación a las columnas no binarias.\n"
   ]
  },
  {
   "cell_type": "code",
   "execution_count": null,
   "metadata": {},
   "outputs": [],
   "source": [
    "def box_plots(data_df):\n",
    "    # Create boxplots for all numeric variables\n",
    "    fig, axes = plt.subplots(n_rows, n_cols, figsize=(15, 4*n_rows))\n",
    "    axes = axes.flatten()\n",
    "\n",
    "    for idx, col in enumerate(numeric_cols):\n",
    "        sns.boxplot(data=data_df, y=col, ax=axes[idx])\n",
    "        axes[idx].set_title(f'Boxplot of {col}')\n",
    "        axes[idx].tick_params(axis='x', rotation=45)\n",
    "\n",
    "    # Hide empty subplots if any\n",
    "    for idx in range(len(numeric_cols), len(axes)):\n",
    "        axes[idx].set_visible(False)\n",
    "\n",
    "    plt.tight_layout()\n",
    "    plt.show()\n",
    "    \n",
    "box_plots(df)"
   ]
  },
  {
   "cell_type": "code",
   "execution_count": null,
   "metadata": {},
   "outputs": [],
   "source": [
    "skewed_cols = [\"Price\", \"KM\", \"HP\", \"Weight\", \"Mfg_Year\"]"
   ]
  },
  {
   "cell_type": "code",
   "execution_count": null,
   "metadata": {},
   "outputs": [],
   "source": [
    "# Transformado\n",
    "def show_skew_info(df, col):\n",
    "    skewness = df[col].skew()\n",
    "    kurtosis = df[col].kurtosis()\n",
    "    print(f\"Col: {col}\")\n",
    "    print(f\"\\tSkewness: {skewness}\")\n",
    "    print(f\"\\tKurtosis: {kurtosis}\")\n",
    "    \n",
    "toyota_transformed = toyota_normalized[skewed_cols].copy()\n",
    "\n",
    "show_skew_info(toyota_transformed, \"KM\")\n",
    "toyota_transformed['KM'] = np.log(toyota_transformed['KM']+1)\n",
    "toyota_transformed['KM'] = np.sqrt(toyota_transformed['KM'])\n",
    "show_skew_info(toyota_transformed, \"KM\")\n",
    "\n",
    "show_skew_info(toyota_transformed, \"Weight\")\n",
    "toyota_transformed['Weight'] = np.log(toyota_transformed['Weight']+1)\n",
    "toyota_transformed['Weight'] = np.sqrt(toyota_transformed['Weight'])\n",
    "show_skew_info(toyota_transformed, \"Weight\")\n",
    "\n",
    "toyota_transformed.describe().T"
   ]
  },
  {
   "cell_type": "code",
   "execution_count": null,
   "metadata": {},
   "outputs": [],
   "source": [
    "def print_histograms_comparison_v2(original_df, toyota_normalized, transformed_df):\n",
    "    numeric_cols = toyota_normalized.select_dtypes(include=[np.number]).columns\n",
    "    n_cols = 3  # Original, Scaled, Transformed\n",
    "    n_rows = len(numeric_cols)\n",
    "\n",
    "    fig, axes = plt.subplots(n_rows, n_cols, figsize=(18, 4*n_rows))\n",
    "    if n_rows == 1:\n",
    "        axes = np.array([axes])  # Ensure axes is 2D\n",
    "\n",
    "    for idx, col in enumerate(numeric_cols):\n",
    "        # Histograma original\n",
    "        sns.histplot(data=original_df, x=col, ax=axes[idx, 0], kde=True, color='skyblue')\n",
    "        axes[idx, 0].set_title(f'Original: {col}')\n",
    "        axes[idx, 0].tick_params(axis='x', rotation=45)\n",
    "\n",
    "        # Histograma escalado\n",
    "        sns.histplot(data=toyota_normalized, x=col, ax=axes[idx, 1], kde=True, color='salmon')\n",
    "        axes[idx, 1].set_title(f'Escalado: {col}')\n",
    "        axes[idx, 1].tick_params(axis='x', rotation=45)\n",
    "\n",
    "        # Histograma transformado\n",
    "        sns.histplot(data=transformed_df, x=col, ax=axes[idx, 2], kde=True, color='seagreen')\n",
    "        axes[idx, 2].set_title(f'Transformado: {col}')\n",
    "        axes[idx, 2].tick_params(axis='x', rotation=45)\n",
    "\n",
    "    plt.tight_layout()\n",
    "    plt.show()\n",
    "\n",
    "print_histograms_comparison_v2(map_strings[skewed_cols], toyota_normalized[skewed_cols], toyota_transformed[skewed_cols])"
   ]
  },
  {
   "cell_type": "code",
   "execution_count": null,
   "metadata": {},
   "outputs": [],
   "source": [
    "box_plots(toyota_transformed)"
   ]
  }
 ],
 "metadata": {
  "kernelspec": {
   "display_name": "toyota",
   "language": "python",
   "name": "python3"
  },
  "language_info": {
   "name": "python",
   "version": "3.11.12"
  }
 },
 "nbformat": 4,
 "nbformat_minor": 2
}
