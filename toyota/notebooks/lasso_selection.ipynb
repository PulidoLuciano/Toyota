{
 "cells": [
  {
   "cell_type": "code",
   "execution_count": null,
   "metadata": {},
   "outputs": [],
   "source": [
    "import numpy as np\n",
    "from sklearn.linear_model import Lasso\n",
    "from sklearn.metrics import mean_squared_error, r2_score\n",
    "from sklearn.model_selection import train_test_split\n",
    "import pandas as pd\n",
    "import seaborn as sns\n",
    "import matplotlib.pyplot as plt\n",
    "\n",
    "toyota = cut_outliers.copy()\n",
    "\n",
    "def lasso_selection(X_train, X_test, y_train, y_test, min_alpha=0, max_alpha=4, steps=100):\n",
    "    clf = Lasso()\n",
    "\n",
    "    # Generate values for `alpha` that are evenly distributed on a logarithmic scale\n",
    "    alphas = np.logspace(min_alpha, max_alpha, steps)\n",
    "    coefs = []\n",
    "    rmse_list = []\n",
    "    r2_list = []\n",
    "\n",
    "    # Train the model with different regularisation strengths\n",
    "    for a in alphas:\n",
    "        clf.set_params(alpha=a).fit(X_train, y_train)\n",
    "        coefs.append(clf.coef_)\n",
    "        y_pred = clf.predict(X_test)\n",
    "        mse = mean_squared_error(y_test, y_pred)\n",
    "        rmse_list.append(np.sqrt(mse))\n",
    "        r2 = r2_score(y_test, y_pred)\n",
    "        r2_list.append(r2)\n",
    "\n",
    "    alphas = pd.Index(alphas, name=\"alpha\")\n",
    "    coefs = pd.DataFrame(coefs, index=alphas, columns=[f\"{name}\" for _, name in enumerate(X_train.columns)])\n",
    "    coefs_plot(coefs)\n",
    "    rmse_plot(alphas, rmse_list)\n",
    "    r2_plot(alphas, r2_list)\n",
    "    ordered_coefs = print_coefs(coefs, rmse_list)\n",
    "    worst_coefs = ordered_coefs[ordered_coefs == 0].index.tolist()\n",
    "    return worst_coefs\n",
    "\n",
    "def coefs_plot(coefs):\n",
    "    sns.lineplot(data=coefs)\n",
    "    plt.xscale(\"log\")\n",
    "    plt.show()\n",
    "\n",
    "def rmse_plot(alphas, rmse_list):\n",
    "    sns.lineplot(x=alphas, y=rmse_list)\n",
    "    plt.xscale(\"log\")\n",
    "    plt.ylabel(\"RMSE\")\n",
    "    # Find and mark the minimum MSE point\n",
    "    min_rmse_idx = np.argmin(rmse_list)\n",
    "    min_alpha = alphas[min_rmse_idx]\n",
    "    min_rmse = rmse_list[min_rmse_idx]\n",
    "    plt.plot(min_alpha, min_rmse, 'ro', label=f'Min RMSE: {min_rmse:.2f}\\nAlpha: {min_alpha:.2e}')\n",
    "    plt.legend()\n",
    "    plt.show()\n",
    "\n",
    "def r2_plot(alphas, r2_list):\n",
    "    sns.lineplot(x=alphas, y=r2_list)\n",
    "    plt.xscale(\"log\")\n",
    "    plt.ylabel(\"R2\")\n",
    "    min_r2_idx = np.argmax(r2_list)\n",
    "    min_alpha = alphas[min_r2_idx]\n",
    "    min_r2 = r2_list[min_r2_idx]\n",
    "    plt.plot(min_alpha, min_r2, 'ro', label=f'Min R2: {min_r2:.2f}\\nAlpha: {min_alpha:.2e}')\n",
    "    plt.legend()\n",
    "    plt.show()\n",
    "\n",
    "def print_coefs(coefs, mse_list):\n",
    "    min_mse_idx = np.argmin(mse_list)\n",
    "    coefs_df = np.abs(coefs.iloc[min_mse_idx]).sort_values(ascending=False)\n",
    "    print(coefs_df)\n",
    "    return coefs_df"
   ]
  },
  {
   "cell_type": "markdown",
   "metadata": {},
   "source": [
    "Vamos a hacer la primera ejecucion"
   ]
  },
  {
   "cell_type": "code",
   "execution_count": null,
   "metadata": {},
   "outputs": [],
   "source": [
    "X = toyota.drop(columns=[\"Price\"], axis=1)\n",
    "y = toyota[\"Price\"]\n",
    "X_train, X_test, y_train, y_test = train_test_split(X, y, test_size=0.3, random_state=42, shuffle=True)\n",
    "lasso_selection(X_train, X_test, y_train, y_test, min_alpha=-10, max_alpha=10, steps=200)"
   ]
  },
  {
   "cell_type": "markdown",
   "metadata": {},
   "source": [
    "Se puede ajustar el minimo del alpha para reducir variables sin perder demasiada calidad en el modelo."
   ]
  },
  {
   "cell_type": "code",
   "execution_count": null,
   "metadata": {},
   "outputs": [],
   "source": [
    "lasso_selection(X_train, X_test, y_train, y_test, min_alpha=0.6, max_alpha=4, steps=200)"
   ]
  },
  {
   "cell_type": "markdown",
   "metadata": {},
   "source": [
    "El modelo cuenta con muchas variables y parece empezar a empeorar rapidamente si seguimos aumentando el alpha minimo."
   ]
  }
 ],
 "metadata": {
  "kernelspec": {
   "display_name": "toyota",
   "language": "python",
   "name": "python3"
  },
  "language_info": {
   "codemirror_mode": {
    "name": "ipython",
    "version": 3
   },
   "file_extension": ".py",
   "mimetype": "text/x-python",
   "name": "python",
   "nbconvert_exporter": "python",
   "pygments_lexer": "ipython3",
   "version": "3.11.12"
  }
 },
 "nbformat": 4,
 "nbformat_minor": 2
}
