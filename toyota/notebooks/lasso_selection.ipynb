{
 "cells": [
  {
   "cell_type": "code",
   "execution_count": null,
   "metadata": {},
   "outputs": [],
   "source": [
    "import numpy as np\n",
    "from sklearn.linear_model import Lasso\n",
    "from sklearn.metrics import mean_squared_error\n",
    "from sklearn.model_selection import train_test_split\n",
    "\n",
    "toyota = toyota_cut.copy()\n",
    "\n",
    "X = toyota.drop(columns=[\"Price\", \"Model\"], axis=1)\n",
    "y = toyota[\"Price\"]\n",
    "\n",
    "X_train, X_test, y_train, y_test = train_test_split(X, y, test_size=0.3, random_state=42)\n",
    "\n",
    "clf = Lasso()\n",
    "\n",
    "# Generate values for `alpha` that are evenly distributed on a logarithmic scale\n",
    "alphas = np.logspace(-10, 10, 20)\n",
    "coefs = []\n",
    "mse_list = []\n",
    "\n",
    "# Train the model with different regularisation strengths\n",
    "for a in alphas:\n",
    "    clf.set_params(alpha=a).fit(X_train, y_train)\n",
    "    coefs.append(clf.coef_)\n",
    "    y_pred = clf.predict(X_test)\n",
    "    mse = mean_squared_error(y_test, y_pred)\n",
    "    mse_list.append(mse)\n",
    "\n",
    "import pandas as pd\n",
    "import seaborn as sns\n",
    "import matplotlib.pyplot as plt\n",
    "\n",
    "alphas = pd.Index(alphas, name=\"alpha\")\n",
    "coefs = pd.DataFrame(coefs, index=alphas, columns=[f\"{name}\" for _, name in enumerate(X.columns)])\n",
    "\n",
    "sns.lineplot(data=coefs)\n",
    "plt.xscale(\"log\")\n",
    "plt.show()\n",
    "\n",
    "sns.lineplot(x=alphas, y=mse_list)\n",
    "plt.xscale(\"log\")\n",
    "plt.ylabel(\"MSE\")\n",
    "# Find and mark the minimum MSE point\n",
    "min_mse_idx = np.argmin(mse_list)\n",
    "min_alpha = alphas[min_mse_idx]\n",
    "min_mse = mse_list[min_mse_idx]\n",
    "\n",
    "plt.plot(min_alpha, min_mse, 'ro', label=f'Min MSE: {min_mse:.2f}\\nAlpha: {min_alpha:.2e}')\n",
    "plt.legend()\n",
    "\n",
    "plt.show()"
   ]
  }
 ],
 "metadata": {
  "kernelspec": {
   "display_name": "toyota",
   "language": "python",
   "name": "python3"
  },
  "language_info": {
   "codemirror_mode": {
    "name": "ipython",
    "version": 3
   },
   "file_extension": ".py",
   "mimetype": "text/x-python",
   "name": "python",
   "nbconvert_exporter": "python",
   "pygments_lexer": "ipython3",
   "version": "3.11.12"
  }
 },
 "nbformat": 4,
 "nbformat_minor": 2
}
