{
 "cells": [
  {
   "cell_type": "markdown",
   "metadata": {},
   "source": [
    "# Principal Component Analysis (PCA) and Principal Component Regression (PCR)"
   ]
  },
  {
   "cell_type": "code",
   "execution_count": null,
   "metadata": {},
   "outputs": [],
   "source": [
    "# Import necessary libraries\n",
    "import pandas as pd\n",
    "import numpy as np\n",
    "import matplotlib.pyplot as plt\n",
    "import seaborn as sns\n",
    "from sklearn.decomposition import PCA\n",
    "from sklearn.model_selection import train_test_split\n",
    "from sklearn.linear_model import LinearRegression\n",
    "from sklearn.metrics import mean_squared_error, r2_score\n",
    "import statsmodels.api as sm\n",
    "\n",
    "df = cut_outliers.copy()\n",
    "\n",
    "X = df.drop(columns=[\"Price\"], axis=1)\n",
    "y = df[\"Price\"]\n",
    "\n",
    "# Split the data\n",
    "X_train, X_test, y_train, y_test = train_test_split(X, y, test_size=0.3, random_state=42, shuffle=True)"
   ]
  },
  {
   "cell_type": "code",
   "execution_count": null,
   "metadata": {},
   "outputs": [],
   "source": [
    "# Perform PCA\n",
    "pca = PCA()\n",
    "X_pca = pca.fit_transform(X)\n",
    "\n",
    "# Create DataFrame with PCA results\n",
    "pca_df = pd.DataFrame(\n",
    "    data=X_pca,\n",
    "    columns=[f'PC{i+1}' for i in range(X_pca.shape[1])]\n",
    ")\n",
    "\n",
    "# Calculate variance explained\n",
    "variance_explained = pca.explained_variance_ratio_\n",
    "cumulative_variance = np.cumsum(variance_explained)\n",
    "\n",
    "# Create DataFrame with variance information\n",
    "variance_df = pd.DataFrame({\n",
    "    'PC': [f'PC{i+1}' for i in range(len(variance_explained))],\n",
    "    'Variance Explained': variance_explained,\n",
    "    'Cumulative Variance': cumulative_variance\n",
    "})\n",
    "\n",
    "print(\"\\nVariance Explained by each Principal Component:\")\n",
    "print(variance_df)"
   ]
  },
  {
   "cell_type": "code",
   "execution_count": null,
   "metadata": {},
   "outputs": [],
   "source": [
    "# Create a figure with multiple subplots\n",
    "plt.figure(figsize=(15, 10))\n",
    "\n",
    "# Scree Plot\n",
    "plt.subplot(2, 2, 1)\n",
    "plt.bar(range(1, len(variance_explained) + 1), variance_explained)\n",
    "plt.xlabel('Principal Component')\n",
    "plt.ylabel('Variance Explained')\n",
    "plt.title('Scree Plot')\n",
    "\n",
    "# Cumulative Variance Plot\n",
    "plt.subplot(2, 2, 2)\n",
    "plt.plot(range(1, len(cumulative_variance) + 1), cumulative_variance, 'bo-')\n",
    "plt.axhline(y=0.8, color='r', linestyle='--')\n",
    "plt.xlabel('Number of Components')\n",
    "plt.ylabel('Cumulative Variance Explained')\n",
    "plt.title('Cumulative Variance Explained')\n",
    "\n",
    "plt.tight_layout()\n",
    "plt.show()"
   ]
  },
  {
   "cell_type": "markdown",
   "metadata": {},
   "source": [
    "## Principal Component Regression (PCR) Analysis"
   ]
  },
  {
   "cell_type": "code",
   "execution_count": null,
   "metadata": {},
   "outputs": [],
   "source": [
    "def calculate_pcr_metrics(X_train, y_train, X_test, y_test, n_components):\n",
    "    # Transform data using PCA\n",
    "    pca = PCA(n_components=n_components)\n",
    "    X_train_pca = pca.fit_transform(X_train)\n",
    "    X_test_pca = pca.transform(X_test)\n",
    "    \n",
    "    # Fit linear regression\n",
    "    model = LinearRegression()\n",
    "    model.fit(X_train_pca, y_train)\n",
    "    \n",
    "    # Make predictions\n",
    "    y_pred = model.predict(X_test_pca)\n",
    "    \n",
    "    # Calculate metrics\n",
    "    r2 = r2_score(y_test, y_pred)\n",
    "    rmse = np.sqrt(mean_squared_error(y_test, y_pred))\n",
    "    \n",
    "    return r2, rmse\n",
    "\n",
    "# Initialize lists to store results\n",
    "n_components_range = range(1, X.shape[1] + 1)\n",
    "metrics = {\n",
    "    'R2': [],\n",
    "    'RMSE': []\n",
    "}\n",
    "\n",
    "# Perform PCR for different numbers of components\n",
    "for n in n_components_range:\n",
    "    r2, rmse = calculate_pcr_metrics(X_train, y_train, X_test, y_test, n)\n",
    "    metrics['R2'].append(r2)\n",
    "    metrics['RMSE'].append(rmse)\n",
    "    print(f\"\\nNumber of components: {n}\")\n",
    "    print(f\"R²: {r2:.4f}\")\n",
    "    print(f\"RMSE: {rmse:.4f}\")"
   ]
  },
  {
   "cell_type": "code",
   "execution_count": null,
   "metadata": {},
   "outputs": [],
   "source": [
    "# Create plots for PCR metrics\n",
    "plt.figure(figsize=(15, 5))\n",
    "\n",
    "# R² plot\n",
    "plt.subplot(1, 2, 1)\n",
    "plt.plot(n_components_range, metrics['R2'], 'b-o')\n",
    "plt.title('R² vs Number of Components')\n",
    "plt.xlabel('Number of Components')\n",
    "plt.ylabel('R²')\n",
    "plt.grid(True)\n",
    "\n",
    "# RMSE plot\n",
    "plt.subplot(1, 2, 2)\n",
    "plt.plot(n_components_range, metrics['RMSE'], 'r-o')\n",
    "plt.title('RMSE vs Number of Components')\n",
    "plt.xlabel('Number of Components')\n",
    "plt.ylabel('RMSE')\n",
    "plt.grid(True)\n",
    "\n",
    "plt.tight_layout()\n",
    "plt.show()"
   ]
  },
  {
   "cell_type": "code",
   "execution_count": null,
   "metadata": {},
   "outputs": [],
   "source": [
    "# Find optimal number of components\n",
    "optimal_components_r2 = np.argmax(metrics['R2']) + 1\n",
    "optimal_components_rmse = np.argmin(metrics['RMSE']) + 1\n",
    "\n",
    "print(\"\\nOptimal Number of Components:\")\n",
    "print(f\"Based on R²: {optimal_components_r2} components (R² = {metrics['R2'][optimal_components_r2-1]:.4f})\")\n",
    "print(f\"Based on RMSE: {optimal_components_rmse} components (RMSE = {metrics['RMSE'][optimal_components_rmse-1]:.4f})\")\n",
    "\n",
    "# Print summary of PCR results\n",
    "print(\"\\nPCR Results Summary:\")\n",
    "print(\"-\" * 50)\n",
    "for i, n in enumerate(n_components_range):\n",
    "    print(f\"\\nNumber of components: {n}\")\n",
    "    print(f\"R²: {metrics['R2'][i]:.4f}\")\n",
    "    print(f\"RMSE: {metrics['RMSE'][i]:.4f}\")"
   ]
  }
 ],
 "metadata": {
  "kernelspec": {
   "display_name": "Python 3",
   "language": "python",
   "name": "python3"
  },
  "language_info": {
   "codemirror_mode": {
    "name": "ipython",
    "version": 3
   },
   "file_extension": ".py",
   "mimetype": "text/x-python",
   "name": "python",
   "nbconvert_exporter": "python",
   "pygments_lexer": "ipython3",
   "version": "3.8.0"
  }
 },
 "nbformat": 4,
 "nbformat_minor": 4
}
