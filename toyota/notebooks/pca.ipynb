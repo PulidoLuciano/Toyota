{
 "cells": [
  {
   "cell_type": "markdown",
   "metadata": {},
   "source": [
    "# Principal Component Analysis (PCA) and Principal Component Regression (PCR)"
   ]
  },
  {
   "cell_type": "code",
   "execution_count": null,
   "metadata": {},
   "outputs": [],
   "source": [
    "# Import necessary libraries\n",
    "import pandas as pd\n",
    "import numpy as np\n",
    "import matplotlib.pyplot as plt\n",
    "import seaborn as sns\n",
    "from sklearn.decomposition import PCA\n",
    "from sklearn.model_selection import train_test_split\n",
    "from sklearn.linear_model import LinearRegression\n",
    "from sklearn.metrics import mean_squared_error, r2_score\n",
    "import statsmodels.api as sm\n",
    "\n",
    "cut_outliers = cut_outliers['original']\n",
    "df = cut_outliers.copy()\n",
    "\n",
    "X = df.drop(columns=[\"Price\"], axis=1)\n",
    "y = df[\"Price\"]\n",
    "\n",
    "# Split the data\n",
    "X_train, X_test, y_train, y_test = train_test_split(X, y, test_size=0.3, random_state=42, shuffle=True)"
   ]
  },
  {
   "cell_type": "code",
   "execution_count": null,
   "metadata": {},
   "outputs": [],
   "source": [
    "# Perform PCA\n",
    "pca = PCA()\n",
    "X_pca = pca.fit_transform(X)\n",
    "\n",
    "# Create DataFrame with PCA results\n",
    "pca_df = pd.DataFrame(\n",
    "    data=X_pca,\n",
    "    columns=[f'PC{i+1}' for i in range(X_pca.shape[1])]\n",
    ")\n",
    "\n",
    "# Calculate variance explained\n",
    "variance_explained = pca.explained_variance_ratio_\n",
    "cumulative_variance = np.cumsum(variance_explained)\n",
    "\n",
    "# Create DataFrame with variance information\n",
    "variance_df = pd.DataFrame({\n",
    "    'PC': [f'PC{i+1}' for i in range(len(variance_explained))],\n",
    "    'Variance Explained': variance_explained,\n",
    "    'Cumulative Variance': cumulative_variance\n",
    "})\n",
    "\n",
    "print(\"\\nVariance Explained by each Principal Component:\")\n",
    "print(variance_df)"
   ]
  },
  {
   "cell_type": "code",
   "execution_count": null,
   "metadata": {},
   "outputs": [],
   "source": [
    "# Create a figure with multiple subplots\n",
    "plt.figure(figsize=(15, 10))\n",
    "\n",
    "# Scree Plot\n",
    "plt.subplot(2, 2, 1)\n",
    "plt.bar(range(1, len(variance_explained) + 1), variance_explained)\n",
    "plt.xlabel('Principal Component')\n",
    "plt.ylabel('Variance Explained')\n",
    "plt.title('Scree Plot')\n",
    "\n",
    "# Cumulative Variance Plot\n",
    "plt.subplot(2, 2, 2)\n",
    "plt.plot(range(1, len(cumulative_variance) + 1), cumulative_variance, 'bo-')\n",
    "plt.axhline(y=0.8, color='r', linestyle='--')\n",
    "plt.xlabel('Number of Components')\n",
    "plt.ylabel('Cumulative Variance Explained')\n",
    "plt.title('Cumulative Variance Explained')\n",
    "\n",
    "plt.tight_layout()\n",
    "plt.show()"
   ]
  },
  {
   "cell_type": "markdown",
   "metadata": {},
   "source": [
    "## Principal Component Regression (PCR) Analysis"
   ]
  },
  {
   "cell_type": "code",
   "execution_count": null,
   "metadata": {},
   "outputs": [],
   "source": [
    "def calculate_pcr_metrics(X_train, y_train, X_test, y_test, n_components):\n",
    "    # Transform data using PCA\n",
    "    pca = PCA(n_components=n_components)\n",
    "    X_train_pca = pca.fit_transform(X_train)\n",
    "    X_test_pca = pca.transform(X_test)\n",
    "    \n",
    "    # Fit linear regression\n",
    "    model = LinearRegression()\n",
    "    model.fit(X_train_pca, y_train)\n",
    "    \n",
    "    # Make predictions\n",
    "    y_pred = model.predict(X_test_pca)\n",
    "    \n",
    "    # Calculate metrics\n",
    "    r2 = r2_score(y_test, y_pred)\n",
    "    rmse = np.sqrt(mean_squared_error(y_test, y_pred))\n",
    "    \n",
    "    return r2, rmse\n",
    "\n",
    "# Initialize lists to store results\n",
    "n_components_range = range(1, X.shape[1] + 1)\n",
    "metrics = {\n",
    "    'R2': [],\n",
    "    'RMSE': []\n",
    "}\n",
    "\n",
    "# Perform PCR for different numbers of components\n",
    "for n in n_components_range:\n",
    "    r2, rmse = calculate_pcr_metrics(X_train, y_train, X_test, y_test, n)\n",
    "    metrics['R2'].append(r2)\n",
    "    metrics['RMSE'].append(rmse)\n",
    "    print(f\"\\nNumber of components: {n}\")\n",
    "    print(f\"R²: {r2:.4f}\")\n",
    "    print(f\"RMSE: {rmse:.4f}\")"
   ]
  },
  {
   "cell_type": "code",
   "execution_count": null,
   "metadata": {},
   "outputs": [],
   "source": [
    "# Create plots for PCR metrics\n",
    "plt.figure(figsize=(15, 5))\n",
    "\n",
    "# R² plot\n",
    "plt.subplot(1, 2, 1)\n",
    "plt.plot(n_components_range, metrics['R2'], 'b-o')\n",
    "plt.title('R² vs Number of Components')\n",
    "plt.xlabel('Number of Components')\n",
    "plt.ylabel('R²')\n",
    "plt.grid(True)\n",
    "\n",
    "# RMSE plot\n",
    "plt.subplot(1, 2, 2)\n",
    "plt.plot(n_components_range, metrics['RMSE'], 'r-o')\n",
    "plt.title('RMSE vs Number of Components')\n",
    "plt.xlabel('Number of Components')\n",
    "plt.ylabel('RMSE')\n",
    "plt.grid(True)\n",
    "\n",
    "plt.tight_layout()\n",
    "plt.show()"
   ]
  },
  {
   "cell_type": "markdown",
   "metadata": {},
   "source": [
    "El resultado con tantas variables no es deseable, la cantidad de componentes principales que lleguen a representar un 80% de la varianza deberian estar entre 2 y 4. Estamos logrando esto recien con 14 componentes, lo que no es deseable. Vamos a probar PCA pero quitando las variables y dejando solo la que seleccionamos a mano."
   ]
  },
  {
   "cell_type": "code",
   "execution_count": null,
   "metadata": {},
   "outputs": [],
   "source": [
    "df_cut = cut_outliers.copy()\n",
    "columns = [\"Price\",\"Central_Lock\", \"Met_Color\", \"Airbag_2\", \"ABS\", \"Backseat_Divider\", \"Metallic_Rim\", \"Radio\", \"Diesel\", \"Airbag_1\", \"Sport_Model\", \"m_16v\", \"m_vvti\", \"Automatic\",\n",
    "        \"Gears\", \"m_sedan\", \"m_bns\", \"m_wagon\", \"Power_Steering\", \"Mistlamps\", \"Tow_Bar\", \"m_matic4\", \"m_matic3\", \"m_g6\", \"m_gtsi\", \"m_sport\", \"Boardcomputer\", \n",
    "            \"m_terra\", \"m_luna\", \"m_sol\", \"m_comfort\", \"CD_Player\", \"Powered_Windows\", \"BOVAG_Guarantee\", \"Airco\", \"Mfr_Guarantee\", \"m_hatch_b\", \"m_liftb\", \"m_d4d\", \"Five_Doors\",\n",
    "            \"Trunk\", \"m_exec\"]\n",
    "df_cut = df_cut.drop(columns, axis=1)\n",
    "\n",
    "pca = PCA()\n",
    "X_pca = pca.fit_transform(df_cut)\n",
    "\n",
    "# Calculate variance explained\n",
    "variance_explained = pca.explained_variance_ratio_\n",
    "cumulative_variance = np.cumsum(variance_explained)\n",
    "\n",
    "# Create DataFrame with variance information\n",
    "variance_df = pd.DataFrame({\n",
    "    'PC': [f'PC{i+1}' for i in range(len(variance_explained))],\n",
    "    'Variance Explained': variance_explained,\n",
    "    'Cumulative Variance': cumulative_variance\n",
    "})\n",
    "\n",
    "print(\"\\nVariance Explained by each Principal Component:\")\n",
    "print(variance_df)"
   ]
  }
 ],
 "metadata": {
  "kernelspec": {
   "display_name": "Python 3",
   "language": "python",
   "name": "python3"
  },
  "language_info": {
   "codemirror_mode": {
    "name": "ipython",
    "version": 3
   },
   "file_extension": ".py",
   "mimetype": "text/x-python",
   "name": "python",
   "nbconvert_exporter": "python",
   "pygments_lexer": "ipython3",
   "version": "3.8.0"
  }
 },
 "nbformat": 4,
 "nbformat_minor": 4
}
