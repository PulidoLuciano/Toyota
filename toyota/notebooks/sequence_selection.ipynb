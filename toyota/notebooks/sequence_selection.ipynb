{
 "cells": [
  {
   "cell_type": "code",
   "execution_count": null,
   "metadata": {},
   "outputs": [],
   "source": [
    "import numpy as np\n",
    "from sklearn.linear_model import LinearRegression\n",
    "from sklearn.metrics import mean_squared_error, r2_score\n",
    "from sklearn.model_selection import train_test_split\n",
    "from sklearn.preprocessing import MinMaxScaler\n",
    "from sklearn.feature_selection import SequentialFeatureSelector\n",
    "import pandas as pd\n",
    "\n",
    "toyota = toyota_cut.copy()\n",
    "\n",
    "scaler = MinMaxScaler()\n",
    "toyota = scaler.fit_transform(toyota)\n",
    "toyota = pd.DataFrame(toyota)\n",
    "toyota.columns = toyota_cut.columns\n",
    "\n",
    "X = toyota.drop(columns=[\"Price\"], axis=1)\n",
    "y = toyota[\"Price\"]\n",
    "\n",
    "X_train, X_test, y_train, y_test = train_test_split(X, y, test_size=0.3, random_state=42)\n",
    "\n",
    "sfs = SequentialFeatureSelector(LinearRegression(), n_features_to_select=10, direction=\"forward\")\n",
    "sfs.fit(X_train, y_train)\n",
    "sfs.get_support()\n",
    "\n",
    "print(X_train.columns[sfs.get_support()])"
   ]
  },
  {
   "cell_type": "code",
   "execution_count": null,
   "metadata": {},
   "outputs": [],
   "source": [
    "sfsb = SequentialFeatureSelector(LinearRegression(), n_features_to_select=10, direction=\"backward\")\n",
    "sfsb.fit(X_train, y_train)\n",
    "sfsb.get_support()\n",
    "\n",
    "print(X_train.columns[sfs.get_support()])"
   ]
  }
 ],
 "metadata": {
  "kernelspec": {
   "display_name": "Python 3",
   "language": "python",
   "name": "python3"
  },
  "language_info": {
   "codemirror_mode": {
    "name": "ipython",
    "version": 3
   },
   "file_extension": ".py",
   "mimetype": "text/x-python",
   "name": "python",
   "nbconvert_exporter": "python",
   "pygments_lexer": "ipython3",
   "version": "3.8.0"
  }
 },
 "nbformat": 4,
 "nbformat_minor": 4
}
