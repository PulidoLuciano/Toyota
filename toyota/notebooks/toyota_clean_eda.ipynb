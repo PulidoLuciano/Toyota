{
 "cells": [
  {
   "cell_type": "code",
   "execution_count": null,
   "metadata": {},
   "outputs": [],
   "source": [
    "import pandas as pd\n",
    "import numpy as np\n",
    "import matplotlib.pyplot as plt\n",
    "import seaborn as sns\n",
    "from scipy import stats\n",
    "from sklearn.preprocessing import StandardScaler, MinMaxScaler\n",
    "\n",
    "# Set style for better visualizations\n",
    "sns.set_palette('husl')\n",
    "\n",
    "# Set figure size for better visibility\n",
    "plt.rcParams['figure.figsize'] = (12, 8)"
   ]
  },
  {
   "cell_type": "code",
   "execution_count": null,
   "metadata": {},
   "outputs": [],
   "source": [
    "df = toyota_cut.copy()\n",
    "\n",
    "# Display basic information about the dataset\n",
    "print(\"Dataset Shape:\", df.shape)\n",
    "print(\"\\nDataset Info:\")\n",
    "df.info()\n",
    "print(\"\\nBasic Statistics:\")\n",
    "df.describe()"
   ]
  },
  {
   "cell_type": "markdown",
   "metadata": {},
   "source": [
    "## 1. Histograms for all variables"
   ]
  },
  {
   "cell_type": "code",
   "execution_count": null,
   "metadata": {},
   "outputs": [],
   "source": [
    "# Create histograms for all numeric variables\n",
    "numeric_cols = df.select_dtypes(include=[np.number]).columns\n",
    "n_cols = 3\n",
    "n_rows = (len(numeric_cols) + n_cols - 1) // n_cols\n",
    "\n",
    "fig, axes = plt.subplots(n_rows, n_cols, figsize=(15, 4*n_rows))\n",
    "axes = axes.flatten()\n",
    "\n",
    "for idx, col in enumerate(numeric_cols):\n",
    "    sns.histplot(data=df, x=col, ax=axes[idx], kde=True)\n",
    "    axes[idx].set_title(f'Distribution of {col}')\n",
    "    axes[idx].tick_params(axis='x', rotation=45)\n",
    "\n",
    "# Hide empty subplots if any\n",
    "for idx in range(len(numeric_cols), len(axes)):\n",
    "    axes[idx].set_visible(False)\n",
    "\n",
    "plt.tight_layout()\n",
    "plt.show()"
   ]
  },
  {
   "cell_type": "markdown",
   "metadata": {},
   "source": [
    "## 2. Boxplots for all variables"
   ]
  },
  {
   "cell_type": "code",
   "execution_count": null,
   "metadata": {},
   "outputs": [],
   "source": [
    "def box_plots(data_df):\n",
    "    # Create boxplots for all numeric variables\n",
    "    fig, axes = plt.subplots(n_rows, n_cols, figsize=(15, 4*n_rows))\n",
    "    axes = axes.flatten()\n",
    "\n",
    "    for idx, col in enumerate(numeric_cols):\n",
    "        sns.boxplot(data=data_df, y=col, ax=axes[idx])\n",
    "        axes[idx].set_title(f'Boxplot of {col}')\n",
    "        axes[idx].tick_params(axis='x', rotation=45)\n",
    "\n",
    "    # Hide empty subplots if any\n",
    "    for idx in range(len(numeric_cols), len(axes)):\n",
    "        axes[idx].set_visible(False)\n",
    "\n",
    "    plt.tight_layout()\n",
    "    plt.show()\n",
    "    \n",
    "box_plots(df)"
   ]
  },
  {
   "cell_type": "markdown",
   "metadata": {},
   "source": [
    "## 3. Correlation Matrix"
   ]
  },
  {
   "cell_type": "code",
   "execution_count": null,
   "metadata": {},
   "outputs": [],
   "source": [
    "# Calculate correlation matrix\n",
    "correlation_matrix = df[numeric_cols].corr(method='pearson')\n",
    "\n",
    "# Plot correlation matrix\n",
    "plt.figure(figsize=(20, 16))\n",
    "mask = np.triu(np.ones_like(correlation_matrix, dtype=bool))\n",
    "sns.heatmap(correlation_matrix, \n",
    "            mask=mask,\n",
    "            annot=True, \n",
    "            fmt='.2f', \n",
    "            cmap='coolwarm',\n",
    "            center=0,\n",
    "            square=True,\n",
    "            linewidths=.5,\n",
    "            cbar_kws={\"shrink\": .8})\n",
    "plt.title('Pearson Correlation Matrix')\n",
    "plt.xticks(rotation=45, ha='right')\n",
    "plt.yticks(rotation=0)\n",
    "plt.tight_layout()\n",
    "plt.show()"
   ]
  },
  {
   "cell_type": "markdown",
   "metadata": {},
   "source": [
    "## 4. Scatterplots between variables"
   ]
  },
  {
   "cell_type": "code",
   "execution_count": null,
   "metadata": {},
   "outputs": [],
   "source": [
    "def scatter_plots(df):\n",
    "    # Create scatterplots for highly correlated variables (|correlation| > 0.5)\n",
    "    high_corr_pairs = []\n",
    "    for i in range(len(numeric_cols)):\n",
    "        for j in range(i+1, len(numeric_cols)):\n",
    "            corr = correlation_matrix.iloc[i,j]\n",
    "            if abs(corr) > 0.5:\n",
    "                high_corr_pairs.append((numeric_cols[i], numeric_cols[j], corr))\n",
    "\n",
    "    # Sort pairs by absolute correlation value\n",
    "    high_corr_pairs.sort(key=lambda x: abs(x[2]), reverse=True)\n",
    "\n",
    "    # Create scatterplots for highly correlated pairs\n",
    "    n_pairs = len(high_corr_pairs)\n",
    "    n_cols = 2\n",
    "    n_rows = (n_pairs + n_cols - 1) // n_cols\n",
    "\n",
    "    fig, axes = plt.subplots(n_rows, n_cols, figsize=(15, 5*n_rows))\n",
    "    axes = axes.flatten()\n",
    "\n",
    "    for idx, (col1, col2, corr) in enumerate(high_corr_pairs):\n",
    "        sns.scatterplot(data=df, x=col1, y=col2, ax=axes[idx])\n",
    "        axes[idx].set_title(f'{col1} vs {col2}\\nCorrelation: {corr:.2f}')\n",
    "        axes[idx].tick_params(axis='x', rotation=45)\n",
    "\n",
    "    # Hide empty subplots if any\n",
    "    for idx in range(len(high_corr_pairs), len(axes)):\n",
    "        axes[idx].set_visible(False)\n",
    "\n",
    "    plt.tight_layout()\n",
    "    plt.show()\n",
    "    \n",
    "scatter_plots(df)"
   ]
  },
  {
   "cell_type": "markdown",
   "metadata": {},
   "source": [
    "## 5. Summary Statistics for Outliers"
   ]
  },
  {
   "cell_type": "code",
   "execution_count": null,
   "metadata": {},
   "outputs": [],
   "source": [
    "# Calculate and display outlier statistics\n",
    "outlier_stats = pd.DataFrame()\n",
    "\n",
    "for col in numeric_cols:\n",
    "    Q1 = df[col].quantile(0.25)\n",
    "    Q3 = df[col].quantile(0.75)\n",
    "    IQR = Q3 - Q1\n",
    "    lower_bound = Q1 - 1.5 * IQR\n",
    "    upper_bound = Q3 + 1.5 * IQR\n",
    "    outliers = df[(df[col] < lower_bound) | (df[col] > upper_bound)][col]\n",
    "    \n",
    "    outlier_stats.loc[col, 'Outliers Count'] = len(outliers)\n",
    "    outlier_stats.loc[col, 'Outliers Percentage'] = (len(outliers) / len(df)) * 100\n",
    "    outlier_stats.loc[col, 'Lower Bound'] = lower_bound\n",
    "    outlier_stats.loc[col, 'Upper Bound'] = upper_bound\n",
    "\n",
    "outlier_stats.sort_values('Outliers Count', ascending=False)"
   ]
  },
  {
   "cell_type": "markdown",
   "metadata": {},
   "source": [
    "## 6. Variables vs. Price"
   ]
  },
  {
   "cell_type": "code",
   "execution_count": null,
   "metadata": {},
   "outputs": [],
   "source": [
    "# Create scatterplots for each numeric variable vs. price\n",
    "n_cols = 3\n",
    "n_rows = (len(numeric_cols) + n_cols - 1) // n_cols\n",
    "fig, axes = plt.subplots(n_rows, n_cols, figsize=(15, 5*n_rows))\n",
    "axes = axes.flatten()\n",
    "\n",
    "for idx, col in enumerate(numeric_cols):\n",
    "    sns.scatterplot(data=df, x=col, y='Price', ax=axes[idx])\n",
    "    axes[idx].set_title(f'{col} vs Price')\n",
    "\n",
    "# Hide empty subplots if any\n",
    "for idx in range(len(numeric_cols), len(axes)):\n",
    "    axes[idx].set_visible(False)\n",
    "\n",
    "plt.tight_layout()"
   ]
  },
  {
   "cell_type": "markdown",
   "metadata": {},
   "source": [
    "## 7. Asimetrias y Kurtosis."
   ]
  },
  {
   "cell_type": "markdown",
   "metadata": {},
   "source": [
    "Primero eliminamos outliers"
   ]
  },
  {
   "cell_type": "code",
   "execution_count": null,
   "metadata": {},
   "outputs": [],
   "source": [
    "toyota_filtered = toyota_cut.copy()\n",
    "\n",
    "# Clean based on SCATTER PLOTS\n",
    "# Keep\n",
    "toyota_filtered = toyota_filtered[toyota_filtered['m_mpv_verso'] == 0]\n",
    "toyota_filtered = toyota_filtered[(toyota_filtered['Price'] > 0) & (toyota_filtered['Price'] < 30000)]\n",
    "toyota_filtered = toyota_filtered[(toyota_filtered['Weight'] > 0) & (toyota_filtered['Weight'] < 1400)]\n",
    "toyota_filtered = toyota_filtered[(toyota_filtered['KM'] > 0) & (toyota_filtered['KM'] < 225000)]\n",
    "\n",
    "# Drop\n",
    "toyota_filtered = toyota_filtered.drop(toyota_filtered[(toyota_filtered['Weight'] > 1200) & (toyota_filtered['Price'] < 10000)].index)\n",
    "toyota_filtered = toyota_filtered.drop(toyota_filtered[(toyota_filtered['Age_08_04'] > 40) & (toyota_filtered['Price'] < 5500)].index)\n",
    "toyota_filtered = toyota_filtered.drop(toyota_filtered[(toyota_filtered['Age_08_04'] > 40) & (toyota_filtered['Price'] > 17000)].index)\n",
    "toyota_filtered = toyota_filtered.drop(toyota_filtered[(toyota_filtered['m_life_months'] < 260) & (toyota_filtered['Price'] > 30000)].index)\n",
    "toyota_filtered = toyota_filtered.drop(toyota_filtered[(toyota_filtered['Weight'] > 1400) & (toyota_filtered['Price'] < 15000)].index)\n",
    "\n",
    "\n",
    "# Clean based on BOX PLOTS\n",
    "print(toyota_filtered.shape)\n",
    "scatter_plots(toyota_filtered)\n",
    "box_plots(toyota_filtered)"
   ]
  },
  {
   "cell_type": "code",
   "execution_count": null,
   "metadata": {},
   "outputs": [],
   "source": [
    "# Normalizado\n",
    "scaler = MinMaxScaler()\n",
    "toyota_normalized = toyota_filtered.copy()\n",
    "columns = toyota_normalized.columns\n",
    "toyota_normalized[columns] = scaler.fit_transform(toyota_normalized[columns])\n",
    "toyota_normalized = pd.DataFrame(toyota_normalized, columns=columns)"
   ]
  },
  {
   "cell_type": "markdown",
   "metadata": {},
   "source": [
    "En base a lo obtenido, observamos una Asimetría (skew) en las distribuciones, por lo que haremos los siguientes tratamientos:\n",
    "\n",
    "- *Outliers*: quitamos los outliers del dataset.\n",
    "- *Normalizado*: escalamos las variables con la funcion Min Max (0 a 1).\n",
    "- *Transformacion*: aplicamos esta transformación a las columnas no binarias.\n"
   ]
  },
  {
   "cell_type": "code",
   "execution_count": null,
   "metadata": {},
   "outputs": [],
   "source": [
    "skewed_cols = [\"Price\", \"KM\", \"HP\", \"Weight\", \"Mfg_Year\"]"
   ]
  },
  {
   "cell_type": "code",
   "execution_count": null,
   "metadata": {},
   "outputs": [],
   "source": [
    "# Transformado\n",
    "def show_skew_info(df, col):\n",
    "    skewness = df[col].skew()\n",
    "    kurtosis = df[col].kurtosis()\n",
    "    print(f\"Col: {col}\")\n",
    "    print(f\"\\tSkewness: {skewness}\")\n",
    "    print(f\"\\tKurtosis: {kurtosis}\")\n",
    "    \n",
    "toyota_transformed = toyota_normalized[skewed_cols].copy()\n",
    "\n",
    "show_skew_info(toyota_transformed, \"KM\")\n",
    "toyota_transformed['KM'] = np.log(toyota_transformed['KM']+1)\n",
    "toyota_transformed['KM'] = np.sqrt(toyota_transformed['KM'])\n",
    "show_skew_info(toyota_transformed, \"KM\")\n",
    "\n",
    "show_skew_info(toyota_transformed, \"Weight\")\n",
    "toyota_transformed['Weight'] = np.log(toyota_transformed['Weight']+1)\n",
    "toyota_transformed['Weight'] = np.sqrt(toyota_transformed['Weight'])\n",
    "show_skew_info(toyota_transformed, \"Weight\")\n",
    "\n",
    "toyota_transformed.describe().T"
   ]
  },
  {
   "cell_type": "code",
   "execution_count": null,
   "metadata": {},
   "outputs": [],
   "source": [
    "def print_histograms_comparison_v2(original_df, toyota_normalized, transformed_df):\n",
    "    numeric_cols = toyota_normalized.select_dtypes(include=[np.number]).columns\n",
    "    n_cols = 3  # Original, Scaled, Transformed\n",
    "    n_rows = len(numeric_cols)\n",
    "\n",
    "    fig, axes = plt.subplots(n_rows, n_cols, figsize=(18, 4*n_rows))\n",
    "    if n_rows == 1:\n",
    "        axes = np.array([axes])  # Ensure axes is 2D\n",
    "\n",
    "    for idx, col in enumerate(numeric_cols):\n",
    "        # Histograma original\n",
    "        sns.histplot(data=original_df, x=col, ax=axes[idx, 0], kde=True, color='skyblue')\n",
    "        axes[idx, 0].set_title(f'Original: {col}')\n",
    "        axes[idx, 0].tick_params(axis='x', rotation=45)\n",
    "\n",
    "        # Histograma escalado\n",
    "        sns.histplot(data=toyota_normalized, x=col, ax=axes[idx, 1], kde=True, color='salmon')\n",
    "        axes[idx, 1].set_title(f'Escalado: {col}')\n",
    "        axes[idx, 1].tick_params(axis='x', rotation=45)\n",
    "\n",
    "        # Histograma transformado\n",
    "        sns.histplot(data=transformed_df, x=col, ax=axes[idx, 2], kde=True, color='seagreen')\n",
    "        axes[idx, 2].set_title(f'Transformado: {col}')\n",
    "        axes[idx, 2].tick_params(axis='x', rotation=45)\n",
    "\n",
    "    plt.tight_layout()\n",
    "    plt.show()\n",
    "\n",
    "print_histograms_comparison_v2(toyota_cut[skewed_cols], toyota_normalized[skewed_cols], toyota_transformed[skewed_cols])"
   ]
  },
  {
   "cell_type": "markdown",
   "metadata": {},
   "source": [
    "Validamos el modelo con las transformciones realizadas."
   ]
  },
  {
   "cell_type": "code",
   "execution_count": null,
   "metadata": {},
   "outputs": [],
   "source": [
    "from sklearn.model_selection import KFold\n",
    "import statsmodels.api as sm\n",
    "from toyota.utils import load_dataset, get_metrics, LinearRegDiagnostic\n",
    "\n",
    "toyota_final = toyota_transformed.copy()\n",
    "cols_to_drop = [\"Id\", \"Model\", \"Fuel_Type\"]\n",
    "toyota_final = toyota_final.drop([col for col in cols_to_drop if col in toyota_final.columns], axis=1)\n",
    "\n",
    "split_params = {\n",
    "    \"n_splits\": 5,\n",
    "    \"random_state\": 42,\n",
    "    \"shuffle\": True,\n",
    "}\n",
    "kf = KFold(**split_params)\n",
    "folds = kf.split(toyota_final)\n",
    "\n",
    "train_indexes = []\n",
    "test_indexes = []\n",
    "\n",
    "for (train_index, test_index) in folds:\n",
    "    train_indexes.append(train_index)\n",
    "    test_indexes.append(test_index)\n",
    "\n",
    "models = []\n",
    "for i, train_index in enumerate(train_indexes):\n",
    "    train_fold = toyota_final.iloc[train_index]\n",
    "    X_train = sm.add_constant(train_fold.drop(columns=[\"Price\"], axis=1))\n",
    "    y_train = train_fold[\"Price\"]\n",
    "    model = sm.OLS(y_train, X_train).fit()\n",
    "    model_data = {\n",
    "        \"model\": model,\n",
    "    }\n",
    "    models.append(model_data)\n",
    "    \n",
    "metrics_all = []\n",
    "for i, test_index in enumerate(test_indexes):\n",
    "    test_fold = toyota_final.iloc[test_index]\n",
    "    model = models[i][\"model\"]\n",
    "    X_test = sm.add_constant(test_fold.drop(columns=[\"Price\"], axis=1))\n",
    "    y_test = test_fold[\"Price\"]\n",
    "    y_pred = model.predict(X_test)\n",
    "    metrics = get_metrics(y_test, y_pred)\n",
    "    diagnosticPlotter = LinearRegDiagnostic(model)\n",
    "    diagnosticPlotter()\n",
    "    metrics_all.append(metrics)\n",
    "metrics_means = {key: np.mean([metrics[key] for metrics in metrics_all]) for key in metrics_all[0]}\n",
    "print(metrics_means)"
   ]
  }
 ],
 "metadata": {
  "kernelspec": {
   "display_name": "toyota",
   "language": "python",
   "name": "python3"
  },
  "language_info": {
   "name": "python",
   "version": "3.11.12"
  }
 },
 "nbformat": 4,
 "nbformat_minor": 2
}
