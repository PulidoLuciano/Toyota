{
 "cells": [
  {
   "cell_type": "code",
   "execution_count": null,
   "metadata": {},
   "outputs": [],
   "source": [
    "import pandas as pd\n",
    "import numpy as np\n",
    "import matplotlib.pyplot as plt\n",
    "import seaborn as sns\n",
    "from scipy import stats\n",
    "\n",
    "# Set style for better visualizations\n",
    "sns.set_palette('husl')\n",
    "\n",
    "# Set figure size for better visibility\n",
    "plt.rcParams['figure.figsize'] = (12, 8)"
   ]
  },
  {
   "cell_type": "code",
   "execution_count": null,
   "metadata": {},
   "outputs": [],
   "source": [
    "df = toyota_clean.copy()\n",
    "\n",
    "# Display basic information about the dataset\n",
    "print(\"Dataset Shape:\", df.shape)\n",
    "print(\"\\nDataset Info:\")\n",
    "df.info()\n",
    "print(\"\\nBasic Statistics:\")\n",
    "df.describe()"
   ]
  },
  {
   "cell_type": "markdown",
   "metadata": {},
   "source": [
    "## 1. Histograms for all variables"
   ]
  },
  {
   "cell_type": "code",
   "execution_count": null,
   "metadata": {},
   "outputs": [],
   "source": [
    "# Create histograms for all numeric variables\n",
    "numeric_cols = df.select_dtypes(include=[np.number]).columns\n",
    "n_cols = 3\n",
    "n_rows = (len(numeric_cols) + n_cols - 1) // n_cols\n",
    "\n",
    "fig, axes = plt.subplots(n_rows, n_cols, figsize=(15, 4*n_rows))\n",
    "axes = axes.flatten()\n",
    "\n",
    "for idx, col in enumerate(numeric_cols):\n",
    "    sns.histplot(data=df, x=col, ax=axes[idx], kde=True)\n",
    "    axes[idx].set_title(f'Distribution of {col}')\n",
    "    axes[idx].tick_params(axis='x', rotation=45)\n",
    "\n",
    "# Hide empty subplots if any\n",
    "for idx in range(len(numeric_cols), len(axes)):\n",
    "    axes[idx].set_visible(False)\n",
    "\n",
    "plt.tight_layout()\n",
    "plt.show()"
   ]
  },
  {
   "cell_type": "markdown",
   "metadata": {},
   "source": [
    "## 2. Boxplots for all variables"
   ]
  },
  {
   "cell_type": "code",
   "execution_count": null,
   "metadata": {},
   "outputs": [],
   "source": [
    "# Create boxplots for all numeric variables\n",
    "fig, axes = plt.subplots(n_rows, n_cols, figsize=(15, 4*n_rows))\n",
    "axes = axes.flatten()\n",
    "\n",
    "for idx, col in enumerate(numeric_cols):\n",
    "    sns.boxplot(data=df, y=col, ax=axes[idx])\n",
    "    axes[idx].set_title(f'Boxplot of {col}')\n",
    "    axes[idx].tick_params(axis='x', rotation=45)\n",
    "\n",
    "# Hide empty subplots if any\n",
    "for idx in range(len(numeric_cols), len(axes)):\n",
    "    axes[idx].set_visible(False)\n",
    "\n",
    "plt.tight_layout()\n",
    "plt.show()"
   ]
  },
  {
   "cell_type": "markdown",
   "metadata": {},
   "source": [
    "## 3. Correlation Matrix"
   ]
  },
  {
   "cell_type": "code",
   "execution_count": null,
   "metadata": {},
   "outputs": [],
   "source": [
    "# Calculate correlation matrix\n",
    "correlation_matrix = df[numeric_cols].corr(method='pearson')\n",
    "\n",
    "# Plot correlation matrix\n",
    "plt.figure(figsize=(20, 16))\n",
    "mask = np.triu(np.ones_like(correlation_matrix, dtype=bool))\n",
    "sns.heatmap(correlation_matrix, \n",
    "            mask=mask,\n",
    "            annot=True, \n",
    "            fmt='.2f', \n",
    "            cmap='coolwarm',\n",
    "            center=0,\n",
    "            square=True,\n",
    "            linewidths=.5,\n",
    "            cbar_kws={\"shrink\": .8})\n",
    "plt.title('Pearson Correlation Matrix')\n",
    "plt.xticks(rotation=45, ha='right')\n",
    "plt.yticks(rotation=0)\n",
    "plt.tight_layout()\n",
    "plt.show()"
   ]
  },
  {
   "cell_type": "markdown",
   "metadata": {},
   "source": [
    "- `dsl`  es diesel, ya está en una columna\n",
    "- `m_sport` esta poco relacionada con precio y su t-value muy bajo y p-value practicamente igual a 1. Ademas la cantidad de registros son pocos con el tipo sport.\n",
    "- `m_16v` tiene 0.6 bajo t-value y 50% de p-value.\n",
    "- `Mfg_month` y `Mfg_year` se unifican en una sola columna que muestra la edad en meses (esta nueva columna es exactament eigual que `Age_08_04` por lo que no nos sirve).\n",
    "- `m_hatch_b` y `m_liftb` muy relacionado con `Doors`, por lo que las sacamos.\n",
    "- Todos lo fuel type no aportan a Precio y presentan colinealidad con la mayoria de las variables."
   ]
  },
  {
   "cell_type": "markdown",
   "metadata": {},
   "source": [
    "## 4. Scatterplots between variables"
   ]
  },
  {
   "cell_type": "code",
   "execution_count": null,
   "metadata": {},
   "outputs": [],
   "source": [
    "# Create scatterplots for highly correlated variables (|correlation| > 0.5)\n",
    "high_corr_pairs = []\n",
    "for i in range(len(numeric_cols)):\n",
    "    for j in range(i+1, len(numeric_cols)):\n",
    "        corr = correlation_matrix.iloc[i,j]\n",
    "        if abs(corr) > 0.5:\n",
    "            high_corr_pairs.append((numeric_cols[i], numeric_cols[j], corr))\n",
    "\n",
    "# Sort pairs by absolute correlation value\n",
    "high_corr_pairs.sort(key=lambda x: abs(x[2]), reverse=True)\n",
    "\n",
    "# Create scatterplots for highly correlated pairs\n",
    "n_pairs = len(high_corr_pairs)\n",
    "n_cols = 2\n",
    "n_rows = (n_pairs + n_cols - 1) // n_cols\n",
    "\n",
    "fig, axes = plt.subplots(n_rows, n_cols, figsize=(15, 5*n_rows))\n",
    "axes = axes.flatten()\n",
    "\n",
    "for idx, (col1, col2, corr) in enumerate(high_corr_pairs):\n",
    "    sns.scatterplot(data=df, x=col1, y=col2, ax=axes[idx])\n",
    "    axes[idx].set_title(f'{col1} vs {col2}\\nCorrelation: {corr:.2f}')\n",
    "    axes[idx].tick_params(axis='x', rotation=45)\n",
    "\n",
    "# Hide empty subplots if any\n",
    "for idx in range(len(high_corr_pairs), len(axes)):\n",
    "    axes[idx].set_visible(False)\n",
    "\n",
    "plt.tight_layout()\n",
    "plt.show()"
   ]
  },
  {
   "cell_type": "markdown",
   "metadata": {},
   "source": [
    "## 5. Summary Statistics for Outliers"
   ]
  },
  {
   "cell_type": "code",
   "execution_count": null,
   "metadata": {},
   "outputs": [],
   "source": [
    "# Calculate and display outlier statistics\n",
    "outlier_stats = pd.DataFrame()\n",
    "\n",
    "for col in numeric_cols:\n",
    "    Q1 = df[col].quantile(0.25)\n",
    "    Q3 = df[col].quantile(0.75)\n",
    "    IQR = Q3 - Q1\n",
    "    lower_bound = Q1 - 1.5 * IQR\n",
    "    upper_bound = Q3 + 1.5 * IQR\n",
    "    outliers = df[(df[col] < lower_bound) | (df[col] > upper_bound)][col]\n",
    "    \n",
    "    outlier_stats.loc[col, 'Outliers Count'] = len(outliers)\n",
    "    outlier_stats.loc[col, 'Outliers Percentage'] = (len(outliers) / len(df)) * 100\n",
    "    outlier_stats.loc[col, 'Lower Bound'] = lower_bound\n",
    "    outlier_stats.loc[col, 'Upper Bound'] = upper_bound\n",
    "\n",
    "outlier_stats.sort_values('Outliers Count', ascending=False)"
   ]
  },
  {
   "cell_type": "markdown",
   "metadata": {},
   "source": [
    "## 6. Variables vs. Price"
   ]
  },
  {
   "cell_type": "code",
   "execution_count": null,
   "metadata": {},
   "outputs": [],
   "source": [
    "# Create scatterplots for each numeric variable vs. price\n",
    "n_cols = 3\n",
    "n_rows = (len(numeric_cols) + n_cols - 1) // n_cols\n",
    "fig, axes = plt.subplots(n_rows, n_cols, figsize=(15, 5*n_rows))\n",
    "axes = axes.flatten()\n",
    "\n",
    "for idx, col in enumerate(numeric_cols):\n",
    "    sns.scatterplot(data=df, x=col, y='Price', ax=axes[idx])\n",
    "    axes[idx].set_title(f'{col} vs Price')\n",
    "\n",
    "# Hide empty subplots if any\n",
    "for idx in range(len(numeric_cols), len(axes)):\n",
    "    axes[idx].set_visible(False)\n",
    "\n",
    "plt.tight_layout()"
   ]
  }
 ],
 "metadata": {
  "kernelspec": {
   "display_name": "toyota",
   "language": "python",
   "name": "python3"
  },
  "language_info": {
   "name": "python",
   "version": "3.11.12"
  }
 },
 "nbformat": 4,
 "nbformat_minor": 2
}
