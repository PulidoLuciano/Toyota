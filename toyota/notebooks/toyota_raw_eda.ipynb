{
 "cells": [
  {
   "cell_type": "code",
   "execution_count": 2,
   "metadata": {},
   "outputs": [],
   "source": [
    "toyota_df.head()"
   ]
  },
  {
   "cell_type": "markdown",
   "metadata": {},
   "source": [
    "Recalcular age con mes y anio de fabricacion"
   ]
  },
  {
   "cell_type": "code",
   "execution_count": null,
   "metadata": {},
   "outputs": [],
   "source": [
    "toyota_df.describe().T"
   ]
  },
  {
   "cell_type": "code",
   "execution_count": null,
   "metadata": {},
   "outputs": [],
   "source": [
    "toyota_df.shape"
   ]
  },
  {
   "cell_type": "code",
   "execution_count": null,
   "metadata": {},
   "outputs": [],
   "source": [
    "toyota_df.info()"
   ]
  },
  {
   "cell_type": "code",
   "execution_count": null,
   "metadata": {},
   "outputs": [],
   "source": [
    "toyota_df.isnull().sum()"
   ]
  },
  {
   "cell_type": "code",
   "execution_count": null,
   "metadata": {},
   "outputs": [],
   "source": [
    "#Importing libraries\n",
    "import seaborn as sns\n",
    "import matplotlib.pyplot as plt\n",
    "import pandas as pd\n",
    "import numpy as np"
   ]
  },
  {
   "cell_type": "code",
   "execution_count": null,
   "metadata": {},
   "outputs": [],
   "source": [
    "# Search for duplicates\n",
    "toyota_df.duplicated().value_counts()"
   ]
  },
  {
   "cell_type": "markdown",
   "metadata": {},
   "source": [
    "## Analisis de modelo"
   ]
  },
  {
   "cell_type": "markdown",
   "metadata": {},
   "source": [
    "Listar modelos del dataset."
   ]
  },
  {
   "cell_type": "code",
   "execution_count": null,
   "metadata": {},
   "outputs": [],
   "source": [
    "toyota_df['Model'].value_counts()"
   ]
  },
  {
   "cell_type": "markdown",
   "metadata": {},
   "source": [
    "Hay valores mal escritos, se debe realizar limpieza."
   ]
  },
  {
   "cell_type": "code",
   "execution_count": null,
   "metadata": {},
   "outputs": [],
   "source": [
    "toyota_df['Model'] = toyota_df['Model'].str.upper()\n",
    "toyota_df['Model'] = toyota_df['Model'].str.strip()\n",
    "toyota_df['Model'].value_counts()"
   ]
  },
  {
   "cell_type": "markdown",
   "metadata": {},
   "source": [
    "Vamos a sacar signos de pregunta en todos. Patron comun que nombres inician con ?"
   ]
  },
  {
   "cell_type": "code",
   "execution_count": null,
   "metadata": {},
   "outputs": [],
   "source": [
    "toyota_df['Model'] = toyota_df['Model'].str.replace('?', '')\n",
    "toyota_df['Model'].value_counts()"
   ]
  },
  {
   "cell_type": "markdown",
   "metadata": {},
   "source": [
    "Existen varios modelos iguales escritos de forma diferente. Sin embargo, en la mayoria de los casos, los valores se diferencian por cuestiones como la cantidad de puertas o detalles de algun agregado. Es necesario usar esta columna de modelos o podemos reemplazarla con otras columnas? Vamos a eliminar cadenas innecesarias en los nombres de los modelos."
   ]
  },
  {
   "cell_type": "code",
   "execution_count": null,
   "metadata": {},
   "outputs": [],
   "source": [
    "toyota_df['Model'] = toyota_df['Model'].str.replace('TOYOTA COROLLA', '')\n",
    "toyota_df['Model'] = toyota_df['Model'].str.replace('LINEA', '')\n",
    "toyota_df['Model'] = toyota_df['Model'].str.replace('HATCHBACK', 'HATCHB')\n",
    "toyota_df['Model'] = toyota_df['Model'].str.replace(' HB', 'HATCHB')\n",
    "toyota_df['Model'] = toyota_df['Model'].str.replace('LIFTBACK', 'LIFTB')\n",
    "toyota_df['Model'] = toyota_df['Model'].str.replace('LB', 'LIFTB')\n",
    "toyota_df['Model'] = toyota_df['Model'].str.replace('VVT I', 'VVTI')\n",
    "toyota_df['Model'] = toyota_df['Model'].str.replace('VVT-I', 'VVTI')\n",
    "toyota_df['Model'] = toyota_df['Model'].str.replace('VVTL-I', 'VVTLI')\n",
    "toyota_df['Model'] = toyota_df['Model'].str.replace('VVTL I', 'VVTLI')\n",
    "toyota_df['Model'] = toyota_df['Model'].str.replace('T-SPORT', 'TSPORT')\n",
    "toyota_df['Model'] = toyota_df['Model'].str.replace('T SPORT', 'TSPORT')\n",
    "\n",
    "# Delete doors because it's included as a feature\n",
    "toyota_df['Model'] = toyota_df['Model'].str.replace(r'\\d+\\/\\d+\\-DOORS', '', regex=True)\n",
    "# Delete cc because it's included as a feature\n",
    "toyota_df['Model'] = toyota_df['Model'].str.replace(r'\\d+\\.\\d+', '', regex=True)\n",
    "\n",
    "#Let's make an array with all the words remaining in the column\n",
    "words = toyota_df['Model'].str.split().explode()\n",
    "words.unique()"
   ]
  },
  {
   "cell_type": "markdown",
   "metadata": {},
   "source": [
    "### Gamas "
   ]
  },
  {
   "cell_type": "markdown",
   "metadata": {},
   "source": [
    "De las palabras vistas arriba, 'Terra', 'Luna' y 'Sol' son gamas de toyota corollas que ofrecian diferentes caracteristicas. Vamos a crear una columna en donde podamos visualizar los tipos de cada instancia."
   ]
  },
  {
   "cell_type": "code",
   "execution_count": null,
   "metadata": {},
   "outputs": [],
   "source": [
    "toyota_df['Model_type'] = toyota_df['Model'].apply(lambda x: 0 if 'TERRA' in x else 1 if 'LUNA' in x else 2 if 'SOL' in x else 3)\n",
    "sns.histplot(toyota_df['Model_type'])\n",
    "plt.show()\n"
   ]
  },
  {
   "cell_type": "code",
   "execution_count": null,
   "metadata": {},
   "outputs": [],
   "source": [
    "sns.scatterplot(x='Model_type', y='Price', data=toyota_df)\n",
    "plt.show()\n"
   ]
  },
  {
   "cell_type": "markdown",
   "metadata": {},
   "source": [
    "Analicemos que pasa con los que no tienen una de las categorias."
   ]
  },
  {
   "cell_type": "code",
   "execution_count": null,
   "metadata": {},
   "outputs": [],
   "source": [
    "def get_not_classified(df, column, value):\n",
    "    return df[df[column] == value]"
   ]
  },
  {
   "cell_type": "code",
   "execution_count": null,
   "metadata": {},
   "outputs": [],
   "source": [
    "df = get_not_classified(toyota_df, 'Model_type', 3)\n",
    "df.head()"
   ]
  },
  {
   "cell_type": "markdown",
   "metadata": {},
   "source": [
    "Mucho TSPORT, vamos a ver si esto corresponde a otra categoria diferente que no habiamos tenido en cuenta."
   ]
  },
  {
   "cell_type": "code",
   "execution_count": null,
   "metadata": {},
   "outputs": [],
   "source": [
    "def classified_contains(df, column, value, contains):\n",
    "    temp_df = df[df[column] != value]\n",
    "    temp_df['Model'].str.contains(contains)\n",
    "    temp_df.value_counts()"
   ]
  },
  {
   "cell_type": "code",
   "execution_count": null,
   "metadata": {},
   "outputs": [],
   "source": [
    "classified_contains(toyota_df, 'Model_type', 3, 'TSPORT')"
   ]
  },
  {
   "cell_type": "markdown",
   "metadata": {},
   "source": [
    "Nunca aparece el valor de TSPORT cuando hay presente uno de los modelos que tomamos, entendemos que se trata de otro modelo"
   ]
  },
  {
   "cell_type": "code",
   "execution_count": null,
   "metadata": {},
   "outputs": [],
   "source": [
    "toyota_df.drop(['Model_type'], axis=1, inplace=True)\n",
    "toyota_df['Model_type'] = toyota_df['Model'].apply(lambda x: 0 if 'TERRA' in x else 1 if 'LUNA' in x else 2 if 'SOL' in x else 3 if 'TSPORT' in x else 4)\n",
    "sns.histplot(toyota_df['Model_type'])\n",
    "plt.show()"
   ]
  },
  {
   "cell_type": "markdown",
   "metadata": {},
   "source": [
    "Repetimos el analisis para ver que queda por clasificar"
   ]
  },
  {
   "cell_type": "code",
   "execution_count": null,
   "metadata": {},
   "outputs": [],
   "source": [
    "df = get_not_classified(toyota_df, 'Model_type', 4)\n",
    "df.head()"
   ]
  },
  {
   "cell_type": "markdown",
   "metadata": {},
   "source": [
    "Parece ser que el resto no esta clasificado en el dataset. Debemos evaluar que hacemos con esos."
   ]
  },
  {
   "cell_type": "code",
   "execution_count": null,
   "metadata": {},
   "outputs": [],
   "source": [
    "sns.scatterplot(x='Model_type', y='Price', data=toyota_df)\n",
    "plt.show()"
   ]
  },
  {
   "cell_type": "markdown",
   "metadata": {},
   "source": [
    "Algo interesante es la palabra comfort, que solo aparece en modelos terra. Quizas es otra categoria."
   ]
  },
  {
   "cell_type": "code",
   "execution_count": null,
   "metadata": {},
   "outputs": [],
   "source": [
    "# Create a new vector with true or false if the model contains comfort and not terra\n",
    "comfort_and_not_terra = toyota_df['Model'].str.contains('COMF') & ~toyota_df['Model'].str.contains('TERRA')\n",
    "comfort_and_not_terra.value_counts()"
   ]
  },
  {
   "cell_type": "code",
   "execution_count": null,
   "metadata": {},
   "outputs": [],
   "source": [
    "toyota_df.drop(['Model_type'], axis=1, inplace=True)\n",
    "toyota_df['Model_type'] = toyota_df['Model'].apply(lambda x: 0 if 'TERRA' in x else 1 if 'COMF' in x else 2 if 'LUNA' in x else 3 if 'SOL' in x else 4 if 'TSPORT' in x else 5)\n",
    "sns.histplot(toyota_df['Model_type'])\n",
    "plt.show()"
   ]
  },
  {
   "cell_type": "code",
   "execution_count": null,
   "metadata": {},
   "outputs": [],
   "source": [
    "sns.scatterplot(x='Model_type', y='Price', data=toyota_df)\n",
    "plt.show()"
   ]
  },
  {
   "cell_type": "markdown",
   "metadata": {},
   "source": [
    "### Carroceria"
   ]
  },
  {
   "cell_type": "markdown",
   "metadata": {},
   "source": [
    "Hay por lo menos tres tipos de carroceria que detectamos en los nombres: liftback, hatchback y wagon. Vamos a clasificarlos"
   ]
  },
  {
   "cell_type": "code",
   "execution_count": null,
   "metadata": {},
   "outputs": [],
   "source": [
    "toyota_df['carroceria'] = toyota_df['Model'].apply(lambda x: 0 if 'HATCHB' in x else 1 if 'LIFTB' in x else 2 if 'WAGON' in x else 3)\n",
    "sns.histplot(toyota_df['carroceria'])\n",
    "plt.show()"
   ]
  },
  {
   "cell_type": "code",
   "execution_count": null,
   "metadata": {},
   "outputs": [],
   "source": [
    "df = get_not_classified(toyota_df, 'carroceria', 3)\n",
    "df.head()"
   ]
  },
  {
   "cell_type": "markdown",
   "metadata": {},
   "source": [
    "El resto parece no estar clasificado."
   ]
  },
  {
   "cell_type": "code",
   "execution_count": null,
   "metadata": {},
   "outputs": [],
   "source": [
    "sns.scatterplot(x='carroceria', y='Price', data=toyota_df)\n",
    "plt.show()"
   ]
  },
  {
   "cell_type": "markdown",
   "metadata": {},
   "source": [
    "No parece tener mucha relacion con el precio."
   ]
  },
  {
   "cell_type": "markdown",
   "metadata": {},
   "source": [
    "### Tecnologia motor"
   ]
  },
  {
   "cell_type": "code",
   "execution_count": null,
   "metadata": {},
   "outputs": [],
   "source": [
    "toyota_df['tecnologia_motor'] = toyota_df['Model'].apply(lambda x: 0 if 'VVTI' in x else 1 if 'VVTLI' in x else 2)\n",
    "sns.histplot(toyota_df['tecnologia_motor'])\n",
    "plt.show()"
   ]
  },
  {
   "cell_type": "code",
   "execution_count": null,
   "metadata": {},
   "outputs": [],
   "source": [
    "df = get_not_classified(toyota_df, 'tecnologia_motor', 2)\n",
    "df.head()"
   ]
  },
  {
   "cell_type": "code",
   "execution_count": null,
   "metadata": {},
   "outputs": [],
   "source": [
    "sns.scatterplot(x='tecnologia_motor', y='Price', data=toyota_df)\n",
    "plt.show()"
   ]
  },
  {
   "cell_type": "code",
   "execution_count": null,
   "metadata": {},
   "outputs": [],
   "source": [
    "toyota_df.drop(['Model'], axis=1, inplace=True)"
   ]
  },
  {
   "cell_type": "markdown",
   "metadata": {},
   "source": [
    "## Analisis combustible"
   ]
  },
  {
   "cell_type": "code",
   "execution_count": null,
   "metadata": {},
   "outputs": [],
   "source": [
    "toyota_df['Fuel_Type'].value_counts()"
   ]
  },
  {
   "cell_type": "markdown",
   "metadata": {},
   "source": [
    "Parece correcto. No hay categorias anormales. Los convertimos a numeros y vemos el scatterplot"
   ]
  },
  {
   "cell_type": "code",
   "execution_count": null,
   "metadata": {},
   "outputs": [],
   "source": [
    "# Map fuel type to numbers\n",
    "toyota_df['Fuel_Type'] = toyota_df['Fuel_Type'].map({'Petrol': 0, 'Diesel': 1, 'CNG': 2})\n",
    "sns.scatterplot(x='Fuel_Type', y='Price', data=toyota_df)\n",
    "plt.show()"
   ]
  },
  {
   "cell_type": "markdown",
   "metadata": {},
   "source": [
    "## Analsis generales"
   ]
  },
  {
   "cell_type": "code",
   "execution_count": null,
   "metadata": {},
   "outputs": [],
   "source": [
    "toyota_df.drop(['Id'], axis=1, inplace=True)"
   ]
  },
  {
   "cell_type": "code",
   "execution_count": null,
   "metadata": {},
   "outputs": [],
   "source": [
    "# Let's create histograms for each column with seaborn\n",
    "plt.figure(figsize=(10, 10))\n",
    "toyota_df.hist(figsize=(10, 10))\n",
    "plt.show()"
   ]
  },
  {
   "cell_type": "code",
   "execution_count": null,
   "metadata": {},
   "outputs": [],
   "source": [
    "toyota_df['Cylinders'].value_counts()"
   ]
  },
  {
   "cell_type": "markdown",
   "metadata": {},
   "source": [
    "Solo hay un valor para esta feature, no sirve para predecir nada."
   ]
  },
  {
   "cell_type": "code",
   "execution_count": null,
   "metadata": {},
   "outputs": [],
   "source": [
    "toyota_df.drop(['Cylinders'], axis=1, inplace=True)"
   ]
  },
  {
   "cell_type": "code",
   "execution_count": null,
   "metadata": {},
   "outputs": [],
   "source": [
    "correlation_matrix = toyota_df.corr(method='pearson')"
   ]
  }
 ],
 "metadata": {
  "kernelspec": {
   "display_name": "toyota",
   "language": "python",
   "name": "python3"
  },
  "language_info": {
   "codemirror_mode": {
    "name": "ipython",
    "version": 3
   },
   "file_extension": ".py",
   "mimetype": "text/x-python",
   "name": "python",
   "nbconvert_exporter": "python",
   "pygments_lexer": "ipython3",
   "version": "3.11.12"
  }
 },
 "nbformat": 4,
 "nbformat_minor": 2
}
