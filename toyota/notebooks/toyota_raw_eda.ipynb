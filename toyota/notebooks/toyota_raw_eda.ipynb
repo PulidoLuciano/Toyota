{
 "cells": [
  {
   "cell_type": "code",
   "execution_count": 2,
   "metadata": {},
   "outputs": [],
   "source": [
    "toyota_df.head()"
   ]
  },
  {
   "cell_type": "markdown",
   "metadata": {},
   "source": [
    "Recalcular age con mes y anio de fabricacion"
   ]
  },
  {
   "cell_type": "code",
   "execution_count": null,
   "metadata": {},
   "outputs": [],
   "source": [
    "toyota_df.describe().T"
   ]
  },
  {
   "cell_type": "code",
   "execution_count": null,
   "metadata": {},
   "outputs": [],
   "source": [
    "toyota_df.shape"
   ]
  },
  {
   "cell_type": "code",
   "execution_count": null,
   "metadata": {},
   "outputs": [],
   "source": [
    "toyota_df.info()"
   ]
  },
  {
   "cell_type": "code",
   "execution_count": null,
   "metadata": {},
   "outputs": [],
   "source": [
    "toyota_df.isnull().sum()"
   ]
  },
  {
   "cell_type": "code",
   "execution_count": null,
   "metadata": {},
   "outputs": [],
   "source": [
    "#Importing libraries\n",
    "import seaborn as sns\n",
    "import matplotlib.pyplot as plt\n",
    "import pandas as pd\n",
    "import numpy as np"
   ]
  },
  {
   "cell_type": "code",
   "execution_count": null,
   "metadata": {},
   "outputs": [],
   "source": [
    "# Search for duplicates\n",
    "toyota_df.duplicated().value_counts()"
   ]
  },
  {
   "cell_type": "markdown",
   "metadata": {},
   "source": [
    "## Analisis de modelos"
   ]
  },
  {
   "cell_type": "markdown",
   "metadata": {},
   "source": [
    "Listar modelos del dataset."
   ]
  },
  {
   "cell_type": "code",
   "execution_count": null,
   "metadata": {},
   "outputs": [],
   "source": [
    "toyota_df['Model'].value_counts()"
   ]
  },
  {
   "cell_type": "markdown",
   "metadata": {},
   "source": [
    "Hay valores mal escritos, se debe realizar limpieza."
   ]
  },
  {
   "cell_type": "code",
   "execution_count": null,
   "metadata": {},
   "outputs": [],
   "source": [
    "toyota_df['Model'] = toyota_df['Model'].str.upper()\n",
    "toyota_df['Model'] = toyota_df['Model'].str.strip()\n",
    "toyota_df['Model'].value_counts()"
   ]
  },
  {
   "cell_type": "markdown",
   "metadata": {},
   "source": [
    "Vamos a sacar signos de pregunta en todos. Patron comun que nombres inician con ?"
   ]
  },
  {
   "cell_type": "code",
   "execution_count": null,
   "metadata": {},
   "outputs": [],
   "source": [
    "toyota_df['Model'] = toyota_df['Model'].str.replace('?', '')\n",
    "toyota_df['Model'].value_counts()"
   ]
  },
  {
   "cell_type": "markdown",
   "metadata": {},
   "source": [
    "Existen varios modelos iguales escritos de forma diferente. Sin embargo, en la mayoria de los casos, los valores se diferencian por cuestiones como la cantidad de puertas o detalles de algun agregado. Es necesario usar esta columna de modelos o podemos reemplazarla con otras columnas? Vamos a eliminar cadenas innecesarias en los nombres de los modelos."
   ]
  },
  {
   "cell_type": "code",
   "execution_count": null,
   "metadata": {},
   "outputs": [],
   "source": [
    "toyota_df['Model'] = toyota_df['Model'].str.replace('TOYOTA COROLLA', '')\n",
    "toyota_df['Model'] = toyota_df['Model'].str.replace('LINEA', '')\n",
    "toyota_df['Model'] = toyota_df['Model'].str.replace('HATCHBACK', 'HATCHB')\n",
    "toyota_df['Model'] = toyota_df['Model'].str.replace(' HB', 'HATCHB')\n",
    "toyota_df['Model'] = toyota_df['Model'].str.replace('LIFTBACK', 'LIFTB')\n",
    "toyota_df['Model'] = toyota_df['Model'].str.replace('LB', 'LIFTB')\n",
    "toyota_df['Model'] = toyota_df['Model'].str.replace('VVT I', 'VVTI')\n",
    "toyota_df['Model'] = toyota_df['Model'].str.replace('VVT-I', 'VVTI')\n",
    "toyota_df['Model'] = toyota_df['Model'].str.replace('VVTL-I', 'VVTLI')\n",
    "toyota_df['Model'] = toyota_df['Model'].str.replace('VVTL I', 'VVTLI')\n",
    "toyota_df['Model'] = toyota_df['Model'].str.replace('T-SPORT', 'TSPORT')\n",
    "toyota_df['Model'] = toyota_df['Model'].str.replace('T SPORT', 'TSPORT')\n",
    "\n",
    "# Delete doors because it's included as a feature\n",
    "toyota_df['Model'] = toyota_df['Model'].str.replace(r'\\d+\\/\\d+\\-DOORS', '', regex=True)\n",
    "# Delete cc because it's included as a feature\n",
    "toyota_df['Model'] = toyota_df['Model'].str.replace(r'\\d+\\.\\d+', '', regex=True)\n",
    "\n",
    "#Let's make an array with all the words remaining in the column\n",
    "words = toyota_df['Model'].str.split().explode()\n",
    "words.unique()"
   ]
  },
  {
   "cell_type": "markdown",
   "metadata": {},
   "source": [
    "De las palabras vistas arriba, 'Terra', 'Luna' y 'Sol' son gamas de toyota corollas que ofrecian diferentes caracteristicas. Vamos a crear una columna en donde podamos visualizar los tipos de cada instancia."
   ]
  },
  {
   "cell_type": "code",
   "execution_count": null,
   "metadata": {},
   "outputs": [],
   "source": [
    "toyota_df['Model_type'] = toyota_df['Model'].apply(lambda x: 0 if 'TERRA' in x else 1 if 'LUNA' in x else 2 if 'SOL' in x else 3)\n",
    "sns.histplot(toyota_df['Model_type'])\n",
    "plt.show()\n"
   ]
  },
  {
   "cell_type": "code",
   "execution_count": null,
   "metadata": {},
   "outputs": [],
   "source": [
    "sns.scatterplot(x='Model_type', y='Price', data=toyota_df)\n",
    "plt.show()\n"
   ]
  },
  {
   "cell_type": "markdown",
   "metadata": {},
   "source": [
    "## Analisis combustible"
   ]
  },
  {
   "cell_type": "code",
   "execution_count": null,
   "metadata": {},
   "outputs": [],
   "source": [
    "toyota_df['Fuel_Type'].value_counts()"
   ]
  },
  {
   "cell_type": "markdown",
   "metadata": {},
   "source": [
    "Parece correcto. No hay categorias anormales. Los convertimos a numeros y vemos el scatterplot"
   ]
  },
  {
   "cell_type": "code",
   "execution_count": null,
   "metadata": {},
   "outputs": [],
   "source": [
    "# Map fuel type to numbers\n",
    "toyota_df['Fuel_Type'] = toyota_df['Fuel_Type'].map({'Petrol': 0, 'Diesel': 1, 'CNG': 2})\n",
    "sns.scatterplot(x='Fuel_Type', y='Price', data=toyota_df)\n",
    "plt.show()"
   ]
  },
  {
   "cell_type": "markdown",
   "metadata": {},
   "source": [
    "## Analsis generales"
   ]
  },
  {
   "cell_type": "code",
   "execution_count": null,
   "metadata": {},
   "outputs": [],
   "source": [
    "# Let's create histograms for each column with seaborn\n",
    "plt.figure(figsize=(10, 10))\n",
    "toyota_df.hist(figsize=(10, 10))\n",
    "plt.show()"
   ]
  }
 ],
 "metadata": {
  "kernelspec": {
   "display_name": "toyota",
   "language": "python",
   "name": "python3"
  },
  "language_info": {
   "codemirror_mode": {
    "name": "ipython",
    "version": 3
   },
   "file_extension": ".py",
   "mimetype": "text/x-python",
   "name": "python",
   "nbconvert_exporter": "python",
   "pygments_lexer": "ipython3",
   "version": "3.11.12"
  }
 },
 "nbformat": 4,
 "nbformat_minor": 2
}
