{
 "cells": [
  {
   "cell_type": "code",
   "execution_count": 1,
   "metadata": {},
   "outputs": [
    {
     "ename": "NameError",
     "evalue": "name 'toyota_df' is not defined",
     "output_type": "error",
     "traceback": [
      "\u001b[31m---------------------------------------------------------------------------\u001b[39m",
      "\u001b[31mNameError\u001b[39m                                 Traceback (most recent call last)",
      "\u001b[36mCell\u001b[39m\u001b[36m \u001b[39m\u001b[32mIn[1]\u001b[39m\u001b[32m, line 1\u001b[39m\n\u001b[32m----> \u001b[39m\u001b[32m1\u001b[39m \u001b[43mtoyota_df\u001b[49m.head()\n",
      "\u001b[31mNameError\u001b[39m: name 'toyota_df' is not defined"
     ]
    }
   ],
   "source": [
    "toyota_df.head()"
   ]
  },
  {
   "cell_type": "markdown",
   "metadata": {},
   "source": [
    "Recalcular age con mes y anio de fabricacion"
   ]
  },
  {
   "cell_type": "code",
   "execution_count": null,
   "metadata": {},
   "outputs": [],
   "source": [
    "toyota_df.describe().T"
   ]
  },
  {
   "cell_type": "code",
   "execution_count": null,
   "metadata": {},
   "outputs": [],
   "source": [
    "toyota_df.shape"
   ]
  },
  {
   "cell_type": "code",
   "execution_count": null,
   "metadata": {},
   "outputs": [],
   "source": [
    "toyota_df.info()"
   ]
  },
  {
   "cell_type": "code",
   "execution_count": null,
   "metadata": {},
   "outputs": [],
   "source": [
    "toyota_df.isnull().sum()"
   ]
  },
  {
   "cell_type": "code",
   "execution_count": null,
   "metadata": {},
   "outputs": [],
   "source": [
    "#Importing libraries\n",
    "import seaborn as sns\n",
    "import matplotlib.pyplot as plt\n",
    "import pandas as pd\n",
    "import numpy as np"
   ]
  },
  {
   "cell_type": "code",
   "execution_count": null,
   "metadata": {},
   "outputs": [],
   "source": [
    "# Search for duplicates\n",
    "toyota_df.duplicated().value_counts()"
   ]
  },
  {
   "cell_type": "markdown",
   "metadata": {},
   "source": [
    "## Analisis de modelo"
   ]
  },
  {
   "cell_type": "markdown",
   "metadata": {},
   "source": [
    "Listar modelos del dataset."
   ]
  },
  {
   "cell_type": "code",
   "execution_count": null,
   "metadata": {},
   "outputs": [],
   "source": [
    "toyota_df['Model'].value_counts()"
   ]
  },
  {
   "cell_type": "markdown",
   "metadata": {},
   "source": [
    "Hay valores mal escritos, se debe realizar limpieza."
   ]
  },
  {
   "cell_type": "code",
   "execution_count": null,
   "metadata": {},
   "outputs": [],
   "source": [
    "toyota_df['Model'] = toyota_df['Model'].str.upper()\n",
    "toyota_df['Model'] = toyota_df['Model'].str.strip()\n",
    "toyota_df['Model'].value_counts()"
   ]
  },
  {
   "cell_type": "markdown",
   "metadata": {},
   "source": [
    "Vamos a sacar signos de pregunta en todos. Patron comun que nombres inician con ?"
   ]
  },
  {
   "cell_type": "code",
   "execution_count": null,
   "metadata": {},
   "outputs": [],
   "source": [
    "toyota_df['Model'] = toyota_df['Model'].str.replace('?', '')\n",
    "toyota_df['Model'].value_counts()"
   ]
  },
  {
   "cell_type": "markdown",
   "metadata": {},
   "source": [
    "Existen varios modelos iguales escritos de forma diferente. Sin embargo, en la mayoria de los casos, los valores se diferencian por cuestiones como la cantidad de puertas o detalles de algun agregado. Es necesario usar esta columna de modelos o podemos reemplazarla con otras columnas? Vamos a eliminar cadenas innecesarias en los nombres de los modelos."
   ]
  },
  {
   "cell_type": "code",
   "execution_count": null,
   "metadata": {},
   "outputs": [],
   "source": [
    "# ------ CHARACTERS ------\n",
    "# TODO A CONSULTAR CON EL CLIENTE\n",
    "toyota_df['Model'] = toyota_df['Model'].str.replace('!', ' ') # Inutil\n",
    "toyota_df['Model'] = toyota_df['Model'].str.replace('+', ' ') # Inutil\n",
    "toyota_df['Model'] = toyota_df['Model'].str.replace('MODEL', ' ')\n",
    "toyota_df['Model'] = toyota_df['Model'].str.replace('TOYOTA COROLLA', ' ')\n",
    "toyota_df['Model'] = toyota_df['Model'].str.replace('LINEA', ' ')\n",
    "toyota_df['Model'] = toyota_df['Model'].str.replace('LIN.', ' ')\n",
    "toyota_df['Model'] = toyota_df['Model'].str.replace('L.', ' ')\n",
    "toyota_df['Model'] = toyota_df['Model'].str.replace('BLUE', ' ') # Color azul\n",
    "toyota_df['Model'] = toyota_df['Model'].str.replace('(NW TYPE)', ' ') # Modelo nuevo\n",
    "toyota_df['Model'] = toyota_df['Model'].str.replace(' NW ', ' ') # Modelo nuevo\n",
    "toyota_df['Model'] = toyota_df['Model'].str.replace('NIEUW', ' ') # Modelo nuevo\n",
    "toyota_df['Model'] = toyota_df['Model'].str.replace('(7)', ' ')\n",
    "toyota_df['Model'] = toyota_df['Model'].str.replace(' 1 ', ' ') \n",
    "toyota_df['Model'] = toyota_df['Model'].str.replace('13I', ' ') \n",
    "toyota_df['Model'] = toyota_df['Model'].str.replace('1 6-16v', ' 16V ') \n",
    "\n",
    "# Doors\n",
    "toyota_df['Model'] = toyota_df['Model'].str.replace(r' \\d+\\/\\d+\\-DOORS', ' ', regex=True)\n",
    "toyota_df['Model'] = toyota_df['Model'].str.replace(r' \\d+\\-DOORS', ' ', regex=True)\n",
    "toyota_df['Model'] = toyota_df['Model'].str.replace(r' \\d+\\-DRS', ' ', regex=True)\n",
    "toyota_df['Model'] = toyota_df['Model'].str.replace(r' \\d+DRS', ' ', regex=True)\n",
    "toyota_df['Model'] = toyota_df['Model'].str.replace(r' \\d+ DRS', ' ', regex=True)\n",
    "toyota_df['Model'] = toyota_df['Model'].str.replace(r' \\d+DR', ' ', regex=True)\n",
    "toyota_df['Model'] = toyota_df['Model'].str.replace(r' \\d+D ', ' ', regex=True)\n",
    "toyota_df['Model'] = toyota_df['Model'].str.replace(r' \\d+ DOORS', ' ', regex=True)\n",
    "toyota_df['Model'] = toyota_df['Model'].str.replace(r' \\d+DOORS', ' ', regex=True)\n",
    "\n",
    "\n",
    "# ----- MODEL NAMES ------\n",
    "\n",
    "# Hatchback\n",
    "toyota_df['Model'] = toyota_df['Model'].str.replace('TERRA/COMF.', ' TERRA COMFORT ')\n",
    "toyota_df['Model'] = toyota_df['Model'].str.replace('G6-R', ' G6 ')\n",
    "toyota_df['Model'] = toyota_df['Model'].str.replace('G6R', ' G6 ')\n",
    "toyota_df['Model'] = toyota_df['Model'].str.replace('*G3*', ' G3 ')\n",
    "toyota_df['Model'] = toyota_df['Model'].str.replace('HATCHBACK', ' HATCH_B ')\n",
    "toyota_df['Model'] = toyota_df['Model'].str.replace('HATCHB', ' HATCH_B ')\n",
    "toyota_df['Model'] = toyota_df['Model'].str.replace('HB', ' HATCH_B ')\n",
    "toyota_df['Model'] = toyota_df['Model'].str.replace(' H ', ' HATCH_B ')\n",
    "\n",
    "# Liftback\n",
    "toyota_df['Model'] = toyota_df['Model'].str.replace('LIFTBACK', ' LIFTB ')\n",
    "toyota_df['Model'] = toyota_df['Model'].str.replace('LIFT ', ' LIFTB ')\n",
    "toyota_df['Model'] = toyota_df['Model'].str.replace('LB', ' LIFTB ')\n",
    "\n",
    "# Es 'Sport'\n",
    "toyota_df['Model'] = toyota_df['Model'].str.replace('T SPORT', ' SPORT ')\n",
    "toyota_df['Model'] = toyota_df['Model'].str.replace('T-SPORT', ' SPORT ')\n",
    "toyota_df['Model'] = toyota_df['Model'].str.replace(' S ', ' SPORT ')  # TODO Preguntar\n",
    "\n",
    "# Wagon\n",
    "toyota_df['Model'] = toyota_df['Model'].str.replace('WGN', ' WAGON ')\n",
    "toyota_df['Model'] = toyota_df['Model'].str.replace('STATIONWAGEN', ' WAGON ')\n",
    "toyota_df['Model'] = toyota_df['Model'].str.replace('STION', ' WAGON ')\n",
    "toyota_df['Model'] = toyota_df['Model'].str.replace('STATION', ' WAGON ')\n",
    "toyota_df['Model'] = toyota_df['Model'].str.replace('ST ', ' ')\n",
    "\n",
    "# Sedan\n",
    "toyota_df['Model'] = toyota_df['Model'].str.replace('SDN', ' SEDAN ')\n",
    "toyota_df['Model'] = toyota_df['Model'].str.replace('SD', ' SEDAN ')\n",
    "toyota_df['Model'] = toyota_df['Model'].str.replace('COMF.', ' COMFORT ')\n",
    "toyota_df['Model'] = toyota_df['Model'].str.replace('COMF ', ' COMFORT ')\n",
    "\n",
    "# Other models\n",
    "toyota_df['Model'] = toyota_df['Model'].str.replace('ANDERS', ' COMM ')\n",
    "toyota_df['Model'] = toyota_df['Model'].str.replace('EXECUTIVE', ' EXEC ')\n",
    "\n",
    "# ----- SPECIFICATION NAMES ------\n",
    "\n",
    "# ., 6, V\n",
    "\n",
    "# HP\n",
    "toyota_df['Model'] = toyota_df['Model'].str.replace('90', ' ')\n",
    "toyota_df['Model'] = toyota_df['Model'].str.replace('110', ' ')\n",
    "toyota_df['Model'] = toyota_df['Model'].str.replace('130', ' ')\n",
    "toyota_df['Model'] = toyota_df['Model'].str.replace('116', ' ')\n",
    "toyota_df['Model'] = toyota_df['Model'].str.replace('700', ' ')\n",
    "toyota_df['Model'] = toyota_df['Model'].str.replace('1800', ' ')\n",
    "\n",
    "# Combustible\n",
    "toyota_df['Model'] = toyota_df['Model'].str.replace(' D ', ' DSL ')\n",
    "toyota_df['Model'] = toyota_df['Model'].str.replace('DIESEL', ' DSL ')\n",
    "\n",
    "# Valvulas\n",
    "toyota_df['Model'] = toyota_df['Model'].str.replace('VVT I', ' VVTI ')\n",
    "toyota_df['Model'] = toyota_df['Model'].str.replace(' I ', ' VVTI ')\n",
    "toyota_df['Model'] = toyota_df['Model'].str.replace('VVT-I', ' VVTI ')\n",
    "toyota_df['Model'] = toyota_df['Model'].str.replace('VVTL-I', ' VVTLI ')\n",
    "toyota_df['Model'] = toyota_df['Model'].str.replace('VVTL I', ' VVTLI ')\n",
    "toyota_df['Model'] = toyota_df['Model'].str.replace('I-16V', ' 16V ')\n",
    "toyota_df['Model'] = toyota_df['Model'].str.replace('-16 V ', ' 16V ')\n",
    "toyota_df['Model'] = toyota_df['Model'].str.replace(' 16 V ', ' 16V ')\n",
    "toyota_df['Model'] = toyota_df['Model'].str.replace('-16', ' 16V ')\n",
    "toyota_df['Model'] = toyota_df['Model'].str.replace(' 16 ', ' 16V ')\n",
    "\n",
    "# CC\n",
    "toyota_df['Model'] = toyota_df['Model'].str.replace(r'\\d+.\\d+I', ' VVTI ', regex=True) # Iyeccion Inteligente\n",
    "toyota_df['Model'] = toyota_df['Model'].str.replace(r'\\d+\\.\\d+D', ' DSL ', regex=True) # Diesel\n",
    "toyota_df['Model'] = toyota_df['Model'].str.replace(r'\\d+\\.\\d+V', ' ', regex=True) # TODO Error de tipeo\n",
    "toyota_df['Model'] = toyota_df['Model'].str.replace(r'\\d+\\.\\d', ' ', regex=True)\n",
    "\n",
    "# Transmision\n",
    "toyota_df['Model'] = toyota_df['Model'].str.replace('SPORTS TC', ' SPORT ') # Sports Transmission Control\n",
    "toyota_df['Model'] = toyota_df['Model'].str.replace('D4D', ' D4D ') \n",
    "toyota_df['Model'] = toyota_df['Model'].str.replace('AUT4', ' MATIC4 ')\n",
    "toyota_df['Model'] = toyota_df['Model'].str.replace('AUT3', ' MATIC3 ')\n",
    "toyota_df['Model'] = toyota_df['Model'].str.replace('AUT.', ' MATIC ')\n",
    "toyota_df['Model'] = toyota_df['Model'].str.replace('AUT', ' MATIC ')\n",
    "\n",
    "# Airconditioner\n",
    "toyota_df['Model'] = toyota_df['Model'].str.replace('AIRCO', 'AIRCO')\n",
    "\n",
    "# Especials\n",
    "toyota_df['Model'] = toyota_df['Model'].str.replace('NAVIGATIE', ' NAV ')\n",
    "toyota_df['Model'] = toyota_df['Model'].str.replace('B.EDITION', ' B_ED ')\n",
    "toyota_df['Model'] = toyota_df['Model'].str.replace(' / ', ' ')\n"
   ]
  },
  {
   "cell_type": "code",
   "execution_count": 7,
   "metadata": {},
   "outputs": [],
   "source": [
    "# Encoding para las columnas originales\n",
    "toyota_df['Fuel_Type'] = toyota_df['Fuel_Type'].map({'Petrol': 0, 'Diesel': 1, 'CNG': 2})"
   ]
  },
  {
   "cell_type": "markdown",
   "metadata": {},
   "source": [
    "### Analisis Model"
   ]
  },
  {
   "cell_type": "markdown",
   "metadata": {},
   "source": [
    "Analizamos todas las palabras y la cantidad de cada una:"
   ]
  },
  {
   "cell_type": "code",
   "execution_count": null,
   "metadata": {},
   "outputs": [],
   "source": [
    "model_patterns = []\n",
    "\n",
    "word_counts = toyota_df['Model'].str.split().explode().value_counts().reset_index()\n",
    "word_counts.columns = ['Term', 'Value_Count']\n",
    "word_counts_list = list(zip(word_counts['Term'], word_counts['Value_Count']))\n",
    "\n",
    "for word in word_counts_list: \n",
    "    print(word)\n",
    "    model_patterns.append(word[0])"
   ]
  },
  {
   "cell_type": "markdown",
   "metadata": {},
   "source": [
    "Creamos las nuevas features en base a cada patron de interés contenido en el modelo, haciendo one-hot encoding (1=True, 0=False)."
   ]
  },
  {
   "cell_type": "code",
   "execution_count": null,
   "metadata": {},
   "outputs": [],
   "source": [
    "for pattern in model_patterns:\n",
    "    toyota_df[f\"m_{pattern.lower()}\"] = toyota_df['Model'].apply(lambda x: 1 if pattern in x else 0)     "
   ]
  },
  {
   "cell_type": "code",
   "execution_count": 8,
   "metadata": {},
   "outputs": [
    {
     "ename": "SyntaxError",
     "evalue": "invalid syntax (2764941996.py, line 1)",
     "output_type": "error",
     "traceback": [
      "  \u001b[36mCell\u001b[39m\u001b[36m \u001b[39m\u001b[32mIn[8]\u001b[39m\u001b[32m, line 1\u001b[39m\n\u001b[31m    \u001b[39m\u001b[31mtoyota_df[].describe().T\u001b[39m\n              ^\n\u001b[31mSyntaxError\u001b[39m\u001b[31m:\u001b[39m invalid syntax\n"
     ]
    }
   ],
   "source": [
    "inferred_cols = [col for col in toyota_df.columns if col.startswith(\"m_\")]\n",
    "toyota_df[inferred_cols].describe().T"
   ]
  },
  {
   "cell_type": "markdown",
   "metadata": {},
   "source": [
    "Ahora podemos simplificar algunas de estas columnas obtenidas:"
   ]
  },
  {
   "cell_type": "code",
   "execution_count": null,
   "metadata": {},
   "outputs": [],
   "source": [
    "# Simplificamos el TIPO DE TRANSMISION\n",
    "def get_m_trans(row):\n",
    "    if row['m_matic'] == 1:\n",
    "        return 1\n",
    "    elif row['m_matic3'] == 1:\n",
    "        return 2\n",
    "    elif row['m_matic4'] == 1:\n",
    "        return 3\n",
    "    else:\n",
    "        return 0\n",
    "\n",
    "toyota_df['m_trans'] = toyota_df.apply(get_m_trans, axis=1)\n",
    "toyota_df.drop([\"m_matic\", \"m_matic3\", \"m_matic4\"], axis=1, inplace=True)"
   ]
  },
  {
   "cell_type": "code",
   "execution_count": 6,
   "metadata": {},
   "outputs": [],
   "source": [
    "# Simplificamos el TIPO DE TECNOLOGIA DE VALVULA\n",
    "# def get_m_tech_valve(row):\n",
    "#     if row['m_vvti'] == 1:\n",
    "#         return 1\n",
    "#     elif row['m_vvtli'] == 1:\n",
    "#         return 2\n",
    "#     else:\n",
    "#         return 0\n",
    "\n",
    "# toyota_df['m_tech_valve'] = toyota_df.apply(get_m_tech_valve, axis=1)\n",
    "# toyota_df.drop([\"m_vvti\", \"m_vvtli\"], axis=1, inplace=True)"
   ]
  },
  {
   "cell_type": "code",
   "execution_count": null,
   "metadata": {},
   "outputs": [],
   "source": [
    "# Obtenemos la lista final de columnas inferidas del modelo.\n",
    "inferred_cols = [col for col in toyota_df.columns if col.startswith(\"m_\")]"
   ]
  },
  {
   "cell_type": "markdown",
   "metadata": {},
   "source": [
    "Ahora buscamos alguna correlacion entre las mismas (ignorar el prefijo 'm_'):"
   ]
  },
  {
   "cell_type": "code",
   "execution_count": 5,
   "metadata": {},
   "outputs": [],
   "source": [
    "# Correlaciones entre todas las features inferidas\n",
    "corr = toyota_df[[col if col.startswith('m_') else col for col in inferred_cols]].corr(method='pearson')\n",
    "plt.figure(figsize=(20, 20))\n",
    "sns.heatmap(corr, annot=True, cmap='coolwarm', center=0)\n",
    "plt.title('Pearson Correlation Heatmap')\n",
    "plt.show()"
   ]
  },
  {
   "cell_type": "markdown",
   "metadata": {},
   "source": [
    "A mayor correlación, menos util nos resultarán las variables. En este caso, podemos observar lo siguiente:\n",
    "\n",
    "- `6` y `v` tienen alta correlacion con `16v`, por lo que dejaremos solo `16v`.\n",
    "- `r` tiene alta correlacion con `terra`, por lo que dejaremos solo `terra`.\n",
    "- `so` con `sol` (error de tipeo seguro), por lo quedejaremos `sol`.\n",
    "- `keuze`, `occassions`, `uit` y `s-uitvoering` se correacionan fuertemente, no quedamos con `uit` y la renombramos a `keuze_occ_uit`.\n",
    "- `mpv` siempre va con `verso`, por lo que nos quedamos con `verso` y la renombramos a `mpv_verso`."
   ]
  },
  {
   "cell_type": "markdown",
   "metadata": {},
   "source": [
    "Aplicamos las desiciones anteriores al dataset:"
   ]
  },
  {
   "cell_type": "code",
   "execution_count": null,
   "metadata": {},
   "outputs": [],
   "source": [
    "cols_to_drop = ['m_6', 'm_v', 'm_r', 'm_so', 'm_keuze', 'm_occasions', 'm_s-uitvoering', 'm_mpv']\n",
    "toyota_df.drop([col for col in cols_to_drop if col in toyota_df.columns], axis=1, inplace=True)\n",
    "toyota_df.rename(columns={'m_uit': 'm_keuze_occ_uit', 'm_verso': 'm_mpv_verso'}, inplace=True)"
   ]
  },
  {
   "cell_type": "markdown",
   "metadata": {},
   "source": [
    "Ahora observamos la matriz de correlación con todas las columnas para ver si podemos descartar o mergear columnas."
   ]
  },
  {
   "cell_type": "code",
   "execution_count": null,
   "metadata": {},
   "outputs": [],
   "source": [
    "full_pearson_df = toyota_df.copy()\n",
    "full_pearson_df.drop(['Model'], axis=1, inplace=True)\n",
    "corr = full_pearson_df.corr(method='pearson')\n",
    "plt.figure(figsize=(20, 20))\n",
    "sns.heatmap(corr, annot=True, cmap='coolwarm', center=0)\n",
    "plt.title('Pearson Correlation Heatmap')\n",
    "plt.show()"
   ]
  },
  {
   "cell_type": "markdown",
   "metadata": {},
   "source": [
    "Vemos que:\n",
    "\n",
    "- La variable  `m_matic`, `m_matic3`, `m_matic4` que hemos inferido, se correlaciona directamente con la caja automatica, por lo que efectivamente los terminos AUT, AUT3 y AUT4 solo aportaban al hecho de ser caja automatica o no. Por lo tanto, solo nos quedamos con `Automatic`.\n",
    "- `Radio_cassete` aporta lo mismo que `Radio`. Nos quedamos con `Radio`.\n",
    "- `Powered_Windows` se relaciona con `Central_Lock`, nos quedamos con `Powered_Windows`. De estas el t-value de `Powered_Windows` está mejor.\n",
    "- y dejamos `Automatic`\n",
    "- `dsl`  es diesel, ya está en una columna\n",
    "- `m_sport` esta poco relacionada con precio y su t-value muy bajo y p-value practicamente igual a 1.\n",
    "- `m_16v` tiene 0.6 bajo t-value y 50% de p-value.\n",
    "- `Mfg_month` y `Mfg_year` se unifican en una sola columna que muestra la edad en meses (esta nueva columna es exactament eigual que `Age_08_04` por lo que no nos sirve).\n",
    "- `m_hatch_b` y `m_liftb` muy relacionado con `Doors`, por lo que las sacamos.\n",
    "- Todos lo fuel type no aportan a Precio y presentan colinealidad con la mayoria de las variables."
   ]
  },
  {
   "cell_type": "code",
   "execution_count": null,
   "metadata": {},
   "outputs": [],
   "source": [
    "import datetime as dt\n",
    "toyota_df[\"Mfg_Date\"] = toyota_df[\"Mfg_Year\"].astype(str) + \"-\" + toyota_df[\"Mfg_Month\"].astype(str).str.zfill(2) + \"-01\"\n",
    "today = dt.datetime.today()\n",
    "toyota_df[\"Months_Life\"] = toyota_df[\"Mfg_Date\"].map(\n",
    "    lambda x: (today - dt.datetime.strptime(x, \"%Y-%m-%d\")).days / 30.4375\n",
    ")\n",
    "\n",
    "toyota_df.drop([\"Mfg_Date\"], axis=1, inplace=True)\n",
    "sns.scatterplot(x='Months_Life', y='Price', data=toyota_df)\n",
    "plt.show()\n",
    "\n",
    "sns.scatterplot(x='Age_08_04', y='Price', data=toyota_df)\n",
    "plt.show()"
   ]
  },
  {
   "cell_type": "markdown",
   "metadata": {},
   "source": [
    "\n",
    "Aplicamos los cambios:"
   ]
  },
  {
   "cell_type": "code",
   "execution_count": null,
   "metadata": {},
   "outputs": [],
   "source": [
    "cols_to_drop = ['m_trans', 'Radio_cassete', 'Powered_Windows']\n",
    "toyota_df.drop([col for col in cols_to_drop if col in toyota_df.columns], axis=1, inplace=True)\n",
    "toyota_df.rename(columns={'m_uit': 'm_keuze_occ_uit', 'm_verso': 'm_mpv_verso'}, inplace=True)"
   ]
  },
  {
   "cell_type": "markdown",
   "metadata": {},
   "source": [
    "Finalmente, podemos obtener la cantidad de posibles modelos que se pueden formar."
   ]
  },
  {
   "cell_type": "code",
   "execution_count": null,
   "metadata": {},
   "outputs": [],
   "source": [
    "# Obtenemos la lista final de columnas inferidas del modelo.\n",
    "inferred_cols = [col for col in toyota_df.columns if col.startswith(\"m_\")]\n",
    "\n",
    "# Agrupamos por los patrones únicos y contamos ocurrencias\n",
    "pattern_counts = toyota_df.groupby(inferred_cols).size().reset_index(name='Cantidad')\n",
    "\n",
    "# Generamos el nombre del modelo para cada patrón\n",
    "def get_model_name(row):\n",
    "    name_parts = []\n",
    "    for col in inferred_cols:\n",
    "        if row[col] == 1:\n",
    "            name_parts.append(col[2:].upper())\n",
    "    return \" \".join(name_parts) if name_parts else \"SIN MODELO\"\n",
    "\n",
    "pattern_counts['Nombre_modelo'] = pattern_counts.apply(get_model_name, axis=1)\n",
    "\n",
    "# Mostramos la tabla con el nombre del modelo y la cantidad de ocurrencias\n",
    "display(pattern_counts[['Nombre_modelo', 'Cantidad']].sort_values('Cantidad', ascending=False))\n"
   ]
  },
  {
   "cell_type": "code",
   "execution_count": null,
   "metadata": {},
   "outputs": [],
   "source": [
    "# Barplot showing the count of 1s for each m_ column in a single plot\n",
    "m_cols = [col for col in toyota_df.columns if col.startswith(\"m_\")]\n",
    "ones_counts = [toyota_df[col].sum() for col in m_cols]\n",
    "\n",
    "plt.figure(figsize=(10, 6))\n",
    "sns.barplot(x=m_cols, y=ones_counts)\n",
    "plt.title(\"Count of 1s in each m_ column\")\n",
    "plt.xlabel(\"m_ columns\")\n",
    "plt.ylabel(\"Count of 1s\")\n",
    "plt.xticks(rotation=45)\n",
    "plt.tight_layout()\n",
    "plt.show()"
   ]
  },
  {
   "cell_type": "markdown",
   "metadata": {},
   "source": [
    "### Gamas "
   ]
  },
  {
   "cell_type": "markdown",
   "metadata": {},
   "source": [
    "De las palabras vistas arriba, 'Terra', 'Luna', 'Sol' y son gamas de toyota corollas que ofrecian diferentes caracteristicas. Vamos a crear una columna en donde podamos visualizar los tipos de cada instancia."
   ]
  },
  {
   "cell_type": "code",
   "execution_count": null,
   "metadata": {},
   "outputs": [],
   "source": [
    "toyota_df['Model_type'] = toyota_df['Model'].apply(lambda x: 0 if 'TERRA' in x else 1 if 'LUNA' in x else 2 if 'SOL' in x else 3)\n",
    "sns.histplot(toyota_df['Model_type'])\n",
    "plt.show()\n"
   ]
  },
  {
   "cell_type": "code",
   "execution_count": null,
   "metadata": {},
   "outputs": [],
   "source": [
    "sns.scatterplot(x='Model_type', y='Price', data=toyota_df)\n",
    "plt.show()\n"
   ]
  },
  {
   "cell_type": "markdown",
   "metadata": {},
   "source": [
    "Analicemos que pasa con los que no tienen una de las categorias."
   ]
  },
  {
   "cell_type": "code",
   "execution_count": null,
   "metadata": {},
   "outputs": [],
   "source": [
    "def get_not_classified(df, column, value):\n",
    "    return df[df[column] == value]"
   ]
  },
  {
   "cell_type": "code",
   "execution_count": null,
   "metadata": {},
   "outputs": [],
   "source": [
    "df = get_not_classified(toyota_df, 'Model_type', 3)\n",
    "df.head()"
   ]
  },
  {
   "cell_type": "markdown",
   "metadata": {},
   "source": [
    "Mucho TSPORT, vamos a ver si esto corresponde a otra categoria diferente que no habiamos tenido en cuenta."
   ]
  },
  {
   "cell_type": "code",
   "execution_count": null,
   "metadata": {},
   "outputs": [],
   "source": [
    "def classified_contains(df, column, value, contains):\n",
    "    temp_df = df[df[column] != value]\n",
    "    temp_df['Model'].str.contains(contains)\n",
    "    temp_df.value_counts()"
   ]
  },
  {
   "cell_type": "code",
   "execution_count": null,
   "metadata": {},
   "outputs": [],
   "source": [
    "classified_contains(toyota_df, 'Model_type', 3, 'TSPORT')"
   ]
  },
  {
   "cell_type": "markdown",
   "metadata": {},
   "source": [
    "Nunca aparece el valor de TSPORT cuando hay presente uno de los modelos que tomamos, entendemos que se trata de otro modelo"
   ]
  },
  {
   "cell_type": "code",
   "execution_count": null,
   "metadata": {},
   "outputs": [],
   "source": [
    "toyota_df.drop(['Model_type'], axis=1, inplace=True)\n",
    "toyota_df['Model_type'] = toyota_df['Model'].apply(lambda x: 0 if 'TERRA' in x else 1 if 'LUNA' in x else 2 if 'SOL' in x else 3 if 'TSPORT' in x else 4)\n",
    "sns.histplot(toyota_df['Model_type'])\n",
    "plt.show()"
   ]
  },
  {
   "cell_type": "markdown",
   "metadata": {},
   "source": [
    "Repetimos el analisis para ver que queda por clasificar"
   ]
  },
  {
   "cell_type": "code",
   "execution_count": null,
   "metadata": {},
   "outputs": [],
   "source": [
    "df = get_not_classified(toyota_df, 'Model_type', 4)\n",
    "print(df.shape)\n",
    "df.head()"
   ]
  },
  {
   "cell_type": "markdown",
   "metadata": {},
   "source": [
    "Parece ser que el resto no esta clasificado en el dataset. Debemos evaluar que hacemos con esos."
   ]
  },
  {
   "cell_type": "code",
   "execution_count": null,
   "metadata": {},
   "outputs": [],
   "source": [
    "sns.scatterplot(x='Model_type', y='Price', data=toyota_df)\n",
    "plt.show()"
   ]
  },
  {
   "cell_type": "markdown",
   "metadata": {},
   "source": [
    "Algo interesante es la palabra comfort, que solo aparece en modelos terra. Quizas es otra categoria."
   ]
  },
  {
   "cell_type": "code",
   "execution_count": null,
   "metadata": {},
   "outputs": [],
   "source": [
    "# Create a new vector with true or false if the model contains comfort and not terra\n",
    "comfort_and_not_terra = toyota_df['Model'].str.contains('COMF') & ~toyota_df['Model'].str.contains('TERRA')\n",
    "comfort_and_not_terra.value_counts()"
   ]
  },
  {
   "cell_type": "code",
   "execution_count": null,
   "metadata": {},
   "outputs": [],
   "source": [
    "toyota_df.drop(['Model_type'], axis=1, inplace=True)\n",
    "toyota_df['Model_type'] = toyota_df['Model'].apply(lambda x: 0 if 'TERRA' in x else 1 if 'COMF' in x else 2 if 'LUNA' in x else 3 if 'SOL' in x else 4 if 'TSPORT' in x else 5)\n",
    "sns.histplot(toyota_df['Model_type'])\n",
    "plt.show()"
   ]
  },
  {
   "cell_type": "code",
   "execution_count": null,
   "metadata": {},
   "outputs": [],
   "source": [
    "sns.scatterplot(x='Model_type', y='Price', data=toyota_df)\n",
    "plt.show()"
   ]
  },
  {
   "cell_type": "markdown",
   "metadata": {},
   "source": [
    "### Carroceria"
   ]
  },
  {
   "cell_type": "markdown",
   "metadata": {},
   "source": [
    "Hay por lo menos tres tipos de carroceria que detectamos en los nombres: liftback, hatchback y wagon. Vamos a clasificarlos"
   ]
  },
  {
   "cell_type": "code",
   "execution_count": null,
   "metadata": {},
   "outputs": [],
   "source": [
    "toyota_df['carroceria'] = toyota_df['Model'].apply(lambda x: 0 if 'HATCHB' in x else 1 if 'LIFTB' in x else 2 if 'WAGON' in x else 3)\n",
    "sns.histplot(toyota_df['carroceria'])\n",
    "plt.show()"
   ]
  },
  {
   "cell_type": "code",
   "execution_count": null,
   "metadata": {},
   "outputs": [],
   "source": [
    "df = get_not_classified(toyota_df, 'carroceria', 4)\n",
    "print(df.shape)\n",
    "df.head()"
   ]
  },
  {
   "cell_type": "markdown",
   "metadata": {},
   "source": [
    "El resto parece no estar clasificado."
   ]
  },
  {
   "cell_type": "code",
   "execution_count": null,
   "metadata": {},
   "outputs": [],
   "source": [
    "sns.scatterplot(x='carroceria', y='Price', data=toyota_df)\n",
    "plt.show()"
   ]
  },
  {
   "cell_type": "markdown",
   "metadata": {},
   "source": [
    "No parece tener mucha relacion con el precio."
   ]
  },
  {
   "cell_type": "markdown",
   "metadata": {},
   "source": [
    "### Tecnologia motor"
   ]
  },
  {
   "cell_type": "code",
   "execution_count": null,
   "metadata": {},
   "outputs": [],
   "source": [
    "toyota_df['tecnologia_motor'] = toyota_df['Model'].apply(lambda x: 0 if 'VVTI' in x else 1 if 'VVTLI' in x else 2)\n",
    "sns.histplot(toyota_df['tecnologia_motor'])\n",
    "plt.show()"
   ]
  },
  {
   "cell_type": "code",
   "execution_count": null,
   "metadata": {},
   "outputs": [],
   "source": [
    "sns.scatterplot(x='tecnologia_motor', y='Price', data=toyota_df)\n",
    "plt.show()"
   ]
  },
  {
   "cell_type": "code",
   "execution_count": null,
   "metadata": {},
   "outputs": [],
   "source": [
    "df = get_not_classified(toyota_df, 'tecnologia_motor', 2)\n",
    "print(df.shape)\n",
    "df.head()"
   ]
  },
  {
   "cell_type": "code",
   "execution_count": null,
   "metadata": {},
   "outputs": [],
   "source": [
    "# Limpiamos los string que pasaron a ser feature.\n",
    "# Replace all the names in the names list with ''\n",
    "names = ['Corolla', 'Yaris', 'Camry', 'Hilux', 'Etios', 'SW4', 'RAV4', 'Prius', 'Avanza', 'Innova']\n",
    "import re\n",
    "pattern = r'\\b(?:' + '|'.join(map(re.escape, names)) + r')\\b'\n",
    "toyota_df['Model'] = toyota_df['Model'].str.replace(pattern, '', regex=True)\n",
    "toyota_df['Model'] = toyota_df['Model'].str.strip()"
   ]
  },
  {
   "cell_type": "code",
   "execution_count": null,
   "metadata": {},
   "outputs": [],
   "source": [
    "\n",
    "toyota_df['Model'].value_counts()"
   ]
  },
  {
   "cell_type": "code",
   "execution_count": null,
   "metadata": {},
   "outputs": [],
   "source": [
    "# Drop this column to avoid normalization and non-numeric issues in the next steps\n",
    "toyota_df.drop(['Model'], axis=1, inplace=True)"
   ]
  },
  {
   "cell_type": "markdown",
   "metadata": {},
   "source": [
    "## Analisis combustible"
   ]
  },
  {
   "cell_type": "code",
   "execution_count": null,
   "metadata": {},
   "outputs": [],
   "source": [
    "toyota_df['Fuel_Type'].value_counts()"
   ]
  },
  {
   "cell_type": "markdown",
   "metadata": {},
   "source": [
    "Parece correcto. No hay categorias anormales. Los convertimos a numeros y vemos el scatterplot"
   ]
  },
  {
   "cell_type": "code",
   "execution_count": null,
   "metadata": {},
   "outputs": [],
   "source": [
    "# Map fuel type to numbers\n",
    "toyota_df['Fuel_Type'] = toyota_df['Fuel_Type'].map({'Petrol': 0, 'Diesel': 1, 'CNG': 2})\n",
    "sns.scatterplot(x='Fuel_Type', y='Price', data=toyota_df)\n",
    "plt.show()"
   ]
  },
  {
   "cell_type": "markdown",
   "metadata": {},
   "source": [
    "## Analsis generales"
   ]
  },
  {
   "cell_type": "code",
   "execution_count": 3,
   "metadata": {},
   "outputs": [
    {
     "ename": "NameError",
     "evalue": "name 'toyota_df' is not defined",
     "output_type": "error",
     "traceback": [
      "\u001b[31m---------------------------------------------------------------------------\u001b[39m",
      "\u001b[31mNameError\u001b[39m                                 Traceback (most recent call last)",
      "\u001b[36mCell\u001b[39m\u001b[36m \u001b[39m\u001b[32mIn[3]\u001b[39m\u001b[32m, line 1\u001b[39m\n\u001b[32m----> \u001b[39m\u001b[32m1\u001b[39m \u001b[43mtoyota_df\u001b[49m.drop([\u001b[33m'\u001b[39m\u001b[33mId\u001b[39m\u001b[33m'\u001b[39m], axis=\u001b[32m1\u001b[39m, inplace=\u001b[38;5;28;01mTrue\u001b[39;00m)\n",
      "\u001b[31mNameError\u001b[39m: name 'toyota_df' is not defined"
     ]
    }
   ],
   "source": [
    "toyota_df.drop(['Id'], axis=1, inplace=True)"
   ]
  },
  {
   "cell_type": "code",
   "execution_count": null,
   "metadata": {},
   "outputs": [],
   "source": [
    "# Let's create histograms for each column with seaborn\n",
    "plt.figure(figsize=(10, 10))\n",
    "toyota_df.hist(figsize=(10, 10))\n",
    "plt.show()"
   ]
  },
  {
   "cell_type": "code",
   "execution_count": null,
   "metadata": {},
   "outputs": [],
   "source": [
    "toyota_df['Cylinders'].value_counts()"
   ]
  },
  {
   "cell_type": "markdown",
   "metadata": {},
   "source": [
    "Solo hay un valor para esta feature, no sirve para predecir nada."
   ]
  },
  {
   "cell_type": "code",
   "execution_count": null,
   "metadata": {},
   "outputs": [],
   "source": [
    "toyota_df.drop(['Cylinders'], axis=1, inplace=True)"
   ]
  },
  {
   "cell_type": "code",
   "execution_count": null,
   "metadata": {},
   "outputs": [],
   "source": [
    "toyota_df.corr(method='pearson')"
   ]
  }
 ],
 "metadata": {
  "kernelspec": {
   "display_name": "toyota",
   "language": "python",
   "name": "python3"
  },
  "language_info": {
   "codemirror_mode": {
    "name": "ipython",
    "version": 3
   },
   "file_extension": ".py",
   "mimetype": "text/x-python",
   "name": "python",
   "nbconvert_exporter": "python",
   "pygments_lexer": "ipython3",
   "version": "3.11.11"
  }
 },
 "nbformat": 4,
 "nbformat_minor": 2
}
